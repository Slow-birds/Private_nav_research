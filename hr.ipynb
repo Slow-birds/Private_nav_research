{
 "cells": [
  {
   "cell_type": "code",
   "execution_count": 1,
   "id": "25cc4275",
   "metadata": {},
   "outputs": [],
   "source": [
    "import pandas as pd\n",
    "import  copy\n",
    "import warnings\n",
    "warnings.filterwarnings('ignore')"
   ]
  },
  {
   "cell_type": "code",
   "execution_count": 2,
   "id": "de70e8c8",
   "metadata": {},
   "outputs": [],
   "source": [
    "# 设置显示所有行\n",
    "pd.set_option('display.max_rows', None)\n",
    "# 设置显示所有列\n",
    "pd.set_option('display.max_columns', None)"
   ]
  },
  {
   "cell_type": "code",
   "execution_count": 3,
   "id": "98808ae4",
   "metadata": {},
   "outputs": [],
   "source": [
    "hr_data = pd.read_excel('最终得分.xlsx', sheet_name='Sheet1')\n",
    "hr_data = hr_data.set_index('Unnamed: 0').rename_axis(None)"
   ]
  },
  {
   "cell_type": "code",
   "execution_count": 4,
   "id": "70a589db",
   "metadata": {},
   "outputs": [],
   "source": [
    "data = hr_data.copy()\n",
    "for i in hr_data.index.to_list():\n",
    "    df = data[data.index == i].T.reset_index().rename(columns={\"index\": \"评委\"})\n",
    "    # 增加类别列\n",
    "    df.loc[0:4, '类别'] = 1\n",
    "    df.loc[5:16, '类别'] = 2\n",
    "    df.loc[17:30, '类别'] = 3\n",
    "    df[\"类别\"] = df[\"类别\"].astype(int)\n",
    "    # 去除缺失值\n",
    "    df_cleaned = df.dropna()\n",
    "    # 剔除两个最大值，分数相同优先剔除类别大的值\n",
    "    df_cleaned.sort_values(by=[i, \"类别\"], ascending=[False, False], inplace=True)\n",
    "    df_trimmed1 = df_cleaned.iloc[2:]\n",
    "    # 剔除两个最小值，分数相同优先剔除类别大的值\n",
    "    df_trimmed1.sort_values(by=[i, \"类别\"], ascending=[False, True], inplace=True)\n",
    "    df_trimmed2 = df_trimmed1.iloc[:-2]\n",
    "    # 分组求均值\n",
    "    group1 = df_trimmed2[(df_trimmed2.index >= 0) & (df_trimmed2.index <= 4)][i].mean()\n",
    "    group2 = df_trimmed2[(df_trimmed2.index >= 5) & (df_trimmed2.index <= 16)][i].mean()\n",
    "    group3 = df_trimmed2[(df_trimmed2.index >= 17) & (df_trimmed2.index <= 30)][i].mean()\n",
    "    group = group1*0.4 + group2*0.4 + group3*0.2\n",
    "    hr_data.loc[hr_data.index == i, \"平均分\"] = group\n",
    "hr_data[\"平均分\"] = hr_data[\"平均分\"].round(2)"
   ]
  },
  {
   "cell_type": "code",
   "execution_count": 6,
   "id": "cdf48927",
   "metadata": {},
   "outputs": [],
   "source": [
    "hr_data.to_excel('hr_data.xlsx')"
   ]
  },
  {
   "cell_type": "code",
   "execution_count": null,
   "id": "fc05b0aa",
   "metadata": {},
   "outputs": [],
   "source": []
  }
 ],
 "metadata": {
  "kernelspec": {
   "display_name": "Python 3",
   "language": "python",
   "name": "python3"
  },
  "language_info": {
   "codemirror_mode": {
    "name": "ipython",
    "version": 3
   },
   "file_extension": ".py",
   "mimetype": "text/x-python",
   "name": "python",
   "nbconvert_exporter": "python",
   "pygments_lexer": "ipython3",
   "version": "3.12.4"
  }
 },
 "nbformat": 4,
 "nbformat_minor": 5
}
