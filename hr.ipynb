{
 "cells": [
  {
   "cell_type": "code",
   "execution_count": 1,
   "id": "25cc4275",
   "metadata": {},
   "outputs": [],
   "source": [
    "import pandas as pd"
   ]
  },
  {
   "cell_type": "code",
   "execution_count": 2,
   "id": "91397515",
   "metadata": {},
   "outputs": [],
   "source": [
    "data = pd.read_excel('hr_data.xlsx')\n",
    "# 设置显示所有行\n",
    "pd.set_option('display.max_rows', None)\n",
    "# 设置显示所有列\n",
    "pd.set_option('display.max_columns', None)"
   ]
  },
  {
   "cell_type": "code",
   "execution_count": 3,
   "id": "9a62204b",
   "metadata": {},
   "outputs": [],
   "source": [
    "data = data.set_index('Unnamed: 0').rename_axis(None)"
   ]
  },
  {
   "cell_type": "code",
   "execution_count": 5,
   "id": "70a589db",
   "metadata": {},
   "outputs": [
    {
     "name": "stdout",
     "output_type": "stream",
     "text": [
      "         1\n",
      "8    98.00\n",
      "18   97.00\n",
      "14   94.00\n",
      "10   94.00\n",
      "7    87.00\n",
      "平均分  86.65\n",
      "15   86.00\n",
      "3    84.00\n",
      "1    83.00\n",
      "9    82.00\n",
      "5    77.00\n",
      "20   76.00\n",
      "16   74.00\n",
      "13   74.00\n",
      "11   66.00\n",
      "6    57.00\n",
      "2    56.00\n",
      "12   55.00\n",
      "19   53.00\n",
      "17   52.00\n",
      "4    51.00\n"
     ]
    },
    {
     "ename": "TypeError",
     "evalue": "'>=' not supported between instances of 'str' and 'int'",
     "output_type": "error",
     "traceback": [
      "\u001b[31m---------------------------------------------------------------------------\u001b[39m",
      "\u001b[31mTypeError\u001b[39m                                 Traceback (most recent call last)",
      "\u001b[36mCell\u001b[39m\u001b[36m \u001b[39m\u001b[32mIn[5]\u001b[39m\u001b[32m, line 6\u001b[39m\n\u001b[32m      4\u001b[39m \u001b[38;5;28mprint\u001b[39m(df)\n\u001b[32m      5\u001b[39m trimmed_df = df.iloc[\u001b[32m2\u001b[39m:-\u001b[32m2\u001b[39m]\n\u001b[32m----> \u001b[39m\u001b[32m6\u001b[39m group1 = trimmed_df[(\u001b[43mtrimmed_df\u001b[49m\u001b[43m.\u001b[49m\u001b[43mindex\u001b[49m\u001b[43m \u001b[49m\u001b[43m>\u001b[49m\u001b[43m=\u001b[49m\u001b[43m \u001b[49m\u001b[32;43m1\u001b[39;49m) & (trimmed_df.index <= \u001b[32m8\u001b[39m)].mean().values[\u001b[32m0\u001b[39m]\n\u001b[32m      7\u001b[39m group2 = trimmed_df[(trimmed_df.index >= \u001b[32m9\u001b[39m) & (trimmed_df.index <= \u001b[32m16\u001b[39m)].mean().values[\u001b[32m0\u001b[39m]\n\u001b[32m      8\u001b[39m group3 = trimmed_df[(trimmed_df.index >= \u001b[32m17\u001b[39m) & (trimmed_df.index <= \u001b[32m20\u001b[39m)].mean().values[\u001b[32m0\u001b[39m]\n",
      "\u001b[36mFile \u001b[39m\u001b[32md:\\ruanjian\\Lib\\site-packages\\pandas\\core\\ops\\common.py:76\u001b[39m, in \u001b[36m_unpack_zerodim_and_defer.<locals>.new_method\u001b[39m\u001b[34m(self, other)\u001b[39m\n\u001b[32m     72\u001b[39m             \u001b[38;5;28;01mreturn\u001b[39;00m \u001b[38;5;28mNotImplemented\u001b[39m\n\u001b[32m     74\u001b[39m other = item_from_zerodim(other)\n\u001b[32m---> \u001b[39m\u001b[32m76\u001b[39m \u001b[38;5;28;01mreturn\u001b[39;00m \u001b[43mmethod\u001b[49m\u001b[43m(\u001b[49m\u001b[38;5;28;43mself\u001b[39;49m\u001b[43m,\u001b[49m\u001b[43m \u001b[49m\u001b[43mother\u001b[49m\u001b[43m)\u001b[49m\n",
      "\u001b[36mFile \u001b[39m\u001b[32md:\\ruanjian\\Lib\\site-packages\\pandas\\core\\arraylike.py:60\u001b[39m, in \u001b[36mOpsMixin.__ge__\u001b[39m\u001b[34m(self, other)\u001b[39m\n\u001b[32m     58\u001b[39m \u001b[38;5;129m@unpack_zerodim_and_defer\u001b[39m(\u001b[33m\"\u001b[39m\u001b[33m__ge__\u001b[39m\u001b[33m\"\u001b[39m)\n\u001b[32m     59\u001b[39m \u001b[38;5;28;01mdef\u001b[39;00m\u001b[38;5;250m \u001b[39m\u001b[34m__ge__\u001b[39m(\u001b[38;5;28mself\u001b[39m, other):\n\u001b[32m---> \u001b[39m\u001b[32m60\u001b[39m     \u001b[38;5;28;01mreturn\u001b[39;00m \u001b[38;5;28;43mself\u001b[39;49m\u001b[43m.\u001b[49m\u001b[43m_cmp_method\u001b[49m\u001b[43m(\u001b[49m\u001b[43mother\u001b[49m\u001b[43m,\u001b[49m\u001b[43m \u001b[49m\u001b[43moperator\u001b[49m\u001b[43m.\u001b[49m\u001b[43mge\u001b[49m\u001b[43m)\u001b[49m\n",
      "\u001b[36mFile \u001b[39m\u001b[32md:\\ruanjian\\Lib\\site-packages\\pandas\\core\\indexes\\base.py:7229\u001b[39m, in \u001b[36mIndex._cmp_method\u001b[39m\u001b[34m(self, other, op)\u001b[39m\n\u001b[32m   7225\u001b[39m     result = op(\u001b[38;5;28mself\u001b[39m._values, other)\n\u001b[32m   7227\u001b[39m \u001b[38;5;28;01melif\u001b[39;00m is_object_dtype(\u001b[38;5;28mself\u001b[39m.dtype) \u001b[38;5;129;01mand\u001b[39;00m \u001b[38;5;129;01mnot\u001b[39;00m \u001b[38;5;28misinstance\u001b[39m(\u001b[38;5;28mself\u001b[39m, ABCMultiIndex):\n\u001b[32m   7228\u001b[39m     \u001b[38;5;66;03m# don't pass MultiIndex\u001b[39;00m\n\u001b[32m-> \u001b[39m\u001b[32m7229\u001b[39m     result = \u001b[43mops\u001b[49m\u001b[43m.\u001b[49m\u001b[43mcomp_method_OBJECT_ARRAY\u001b[49m\u001b[43m(\u001b[49m\u001b[43mop\u001b[49m\u001b[43m,\u001b[49m\u001b[43m \u001b[49m\u001b[38;5;28;43mself\u001b[39;49m\u001b[43m.\u001b[49m\u001b[43m_values\u001b[49m\u001b[43m,\u001b[49m\u001b[43m \u001b[49m\u001b[43mother\u001b[49m\u001b[43m)\u001b[49m\n\u001b[32m   7231\u001b[39m \u001b[38;5;28;01melse\u001b[39;00m:\n\u001b[32m   7232\u001b[39m     result = ops.comparison_op(\u001b[38;5;28mself\u001b[39m._values, other, op)\n",
      "\u001b[36mFile \u001b[39m\u001b[32md:\\ruanjian\\Lib\\site-packages\\pandas\\core\\ops\\array_ops.py:129\u001b[39m, in \u001b[36mcomp_method_OBJECT_ARRAY\u001b[39m\u001b[34m(op, x, y)\u001b[39m\n\u001b[32m    127\u001b[39m     result = libops.vec_compare(x.ravel(), y.ravel(), op)\n\u001b[32m    128\u001b[39m \u001b[38;5;28;01melse\u001b[39;00m:\n\u001b[32m--> \u001b[39m\u001b[32m129\u001b[39m     result = \u001b[43mlibops\u001b[49m\u001b[43m.\u001b[49m\u001b[43mscalar_compare\u001b[49m\u001b[43m(\u001b[49m\u001b[43mx\u001b[49m\u001b[43m.\u001b[49m\u001b[43mravel\u001b[49m\u001b[43m(\u001b[49m\u001b[43m)\u001b[49m\u001b[43m,\u001b[49m\u001b[43m \u001b[49m\u001b[43my\u001b[49m\u001b[43m,\u001b[49m\u001b[43m \u001b[49m\u001b[43mop\u001b[49m\u001b[43m)\u001b[49m\n\u001b[32m    130\u001b[39m \u001b[38;5;28;01mreturn\u001b[39;00m result.reshape(x.shape)\n",
      "\u001b[36mFile \u001b[39m\u001b[32mpandas/_libs/ops.pyx:107\u001b[39m, in \u001b[36mpandas._libs.ops.scalar_compare\u001b[39m\u001b[34m()\u001b[39m\n",
      "\u001b[31mTypeError\u001b[39m: '>=' not supported between instances of 'str' and 'int'"
     ]
    }
   ],
   "source": [
    "for i in range(1, len(data)+1):\n",
    "    df = data[data.index == i].T\n",
    "    df.sort_values(by = i, ascending=False, inplace=True)\n",
    "    print(df)\n",
    "    trimmed_df = df.iloc[2:-2]\n",
    "    group1 = trimmed_df[(trimmed_df.index >= 1) & (trimmed_df.index <= 8)].mean().values[0]\n",
    "    group2 = trimmed_df[(trimmed_df.index >= 9) & (trimmed_df.index <= 16)].mean().values[0]\n",
    "    group3 = trimmed_df[(trimmed_df.index >= 17) & (trimmed_df.index <= 20)].mean().values[0]\n",
    "    group = group1*0.4 + group2*0.4 + group3*0.4\n",
    "    data.loc[data.index == i, \"平均分\"] = group"
   ]
  },
  {
   "cell_type": "code",
   "execution_count": 8,
   "id": "ca93af3c",
   "metadata": {},
   "outputs": [],
   "source": [
    "df = data[data.index == 1].T"
   ]
  },
  {
   "cell_type": "code",
   "execution_count": 12,
   "id": "31b29814",
   "metadata": {},
   "outputs": [],
   "source": [
    "df.sort_values(by=1, ascending=False, inplace=True)"
   ]
  },
  {
   "cell_type": "code",
   "execution_count": 14,
   "id": "b957d717",
   "metadata": {},
   "outputs": [],
   "source": [
    "trimmed_df = df.iloc[2:-2]"
   ]
  },
  {
   "cell_type": "code",
   "execution_count": 26,
   "id": "a0fc7575",
   "metadata": {},
   "outputs": [],
   "source": [
    "group1 = trimmed_df[(trimmed_df.index >= 1) & (trimmed_df.index <= 8)].mean().values[0]\n",
    "group2 = trimmed_df[(trimmed_df.index >= 9) & (trimmed_df.index <= 16)].mean().values[0]\n",
    "group3 = trimmed_df[(trimmed_df.index >= 17) & (trimmed_df.index <= 20)].mean().values[0]"
   ]
  },
  {
   "cell_type": "code",
   "execution_count": 27,
   "id": "f304d4f7",
   "metadata": {},
   "outputs": [],
   "source": [
    "group = group1*0.4 + group2*0.4 + group3*0.4"
   ]
  },
  {
   "cell_type": "code",
   "execution_count": 28,
   "id": "4caff038",
   "metadata": {},
   "outputs": [
    {
     "data": {
      "text/plain": [
       "np.float64(86.65)"
      ]
     },
     "execution_count": 28,
     "metadata": {},
     "output_type": "execute_result"
    }
   ],
   "source": [
    "group"
   ]
  },
  {
   "cell_type": "code",
   "execution_count": null,
   "id": "78773745",
   "metadata": {},
   "outputs": [],
   "source": []
  }
 ],
 "metadata": {
  "kernelspec": {
   "display_name": "Python 3",
   "language": "python",
   "name": "python3"
  },
  "language_info": {
   "codemirror_mode": {
    "name": "ipython",
    "version": 3
   },
   "file_extension": ".py",
   "mimetype": "text/x-python",
   "name": "python",
   "nbconvert_exporter": "python",
   "pygments_lexer": "ipython3",
   "version": "3.13.5"
  }
 },
 "nbformat": 4,
 "nbformat_minor": 5
}
