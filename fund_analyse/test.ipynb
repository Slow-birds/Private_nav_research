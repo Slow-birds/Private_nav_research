{
 "cells": [
  {
   "cell_type": "code",
   "execution_count": 2,
   "metadata": {},
   "outputs": [
    {
     "name": "stdout",
     "output_type": "stream",
     "text": [
      "ChatCompletionMessage(content='{\"日期\":[\"2025-07-07\",\"2025-07-07\"],\"序号\":[1,2],\"证券代码\":[\"204001\",\"002636\"],\"证券名称\":[\"GC001\",\"金安国纪\"],\"总持仓\":[46150,0],\"可变持仓\":[0,0],\"参考市值\":[4615000.00,0.00],\"现价\":[100.000,12.47],\"涨幅\":[\"\",\"9.96%\"],\"当日盈亏\":[\"\",32106.00]}', refusal=None, role='assistant', annotations=None, audio=None, function_call=None, tool_calls=None)\n"
     ]
    }
   ],
   "source": [
    "from pathlib import Path\n",
    "from openai import OpenAI\n",
    " \n",
    "system_promtp = \"\"\"\n",
    "你是一位专注于图片内容提取的专业人士, 你需要帮助人类把图片内容提取出来保存为字典格式数据。\n",
    "你只能输出以下DataFrame格式, 内容只包含下列字段, 禁止输出其他内容, 禁止输出字典以外的文字信息: \n",
    "选项1: \n",
    "{  \n",
    "    \"日期\"：list,\n",
    "    \"序号\": list,  \n",
    "    \"证券代码\": list,  \n",
    "    \"证券名称\": list,\n",
    "    \"总持仓\" :list,\n",
    "    \"可变持仓\":list,\n",
    "    \"参考市值\":list,\n",
    "    \"现价\":list,\n",
    "    \"涨幅\":list,\n",
    "    \"当日盈亏\":list,\n",
    "}  \n",
    "\"\"\"\n",
    "user = \"\"\"\n",
    "将2-8页整理为dataframe格式数据。\n",
    "\"\"\"\n",
    "\n",
    "client = OpenAI(\n",
    "        api_key=\"sk-8rz6aB58IUEYFyN8kLwyNk1FD0zl9HCjMTzJOxxWJ2RY9h0q\",\n",
    "        base_url=\"https://api.moonshot.cn/v1\",\n",
    "    )\n",
    " \n",
    "# moonshot.pdf 是一个示例文件, 我们支持文本文件和图片文件，对于图片文件，我们提供了 OCR 的能力\n",
    "# 上传文件时，我们可以直接使用 openai 库的文件上传 API，使用标准库 pathlib 中的 Path 构造文件\n",
    "# 对象，并将其传入 file 参数即可，同时将 purpose 参数设置为 file-extract；注意，目前文件上传\n",
    "# 接口仅支持 file-extract 一种 purpose 值。\n",
    "file_object = client.files.create(file=Path(\"水星基金-持仓截图250828.pdf\"), purpose=\"file-extract\")\n",
    " \n",
    "# 获取结果\n",
    "# file_content = client.files.retrieve_content(file_id=file_object.id)\n",
    "# 注意，某些旧版本示例中的 retrieve_content API 在最新版本标记了 warning, 可以用下面这行代替\n",
    "# （如果使用旧版本的 SDK，可以继续延用 retrieve_content API）\n",
    "file_content = client.files.content(file_id=file_object.id).text\n",
    " \n",
    "# 把文件内容通过系统提示词 system prompt 放进请求中\n",
    "messages = [\n",
    "    {\n",
    "        \"role\": \"system\",\n",
    "        \"content\": system_promtp,\n",
    "    },\n",
    "    {\n",
    "        \"role\": \"system\",\n",
    "        \"content\": file_content, # <-- 这里，我们将抽取后的文件内容（注意是文件内容，而不是文件 ID）放置在请求中\n",
    "    },\n",
    "    {\"role\": \"user\", \"content\": user},\n",
    "]\n",
    " \n",
    "# 然后调用 chat-completion, 获取 Kimi 的回答\n",
    "completion = client.chat.completions.create(\n",
    "  model=\"kimi-k2-0905-preview\",\n",
    "  messages=messages,\n",
    "  temperature=0.6,\n",
    ")\n",
    " \n",
    "print(completion.choices[0].message)"
   ]
  }
 ],
 "metadata": {
  "kernelspec": {
   "display_name": "Python 3",
   "language": "python",
   "name": "python3"
  },
  "language_info": {
   "codemirror_mode": {
    "name": "ipython",
    "version": 3
   },
   "file_extension": ".py",
   "mimetype": "text/x-python",
   "name": "python",
   "nbconvert_exporter": "python",
   "pygments_lexer": "ipython3",
   "version": "3.12.4"
  }
 },
 "nbformat": 4,
 "nbformat_minor": 2
}
