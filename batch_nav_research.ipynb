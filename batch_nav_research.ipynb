{
 "cells": [
  {
   "cell_type": "code",
   "execution_count": 1,
   "metadata": {},
   "outputs": [
    {
     "name": "stdout",
     "output_type": "stream",
     "text": [
      "Welcome to use Wind Quant API for Python (WindPy)!\n",
      "\n",
      "COPYRIGHT (C) 2024 WIND INFORMATION CO., LTD. ALL RIGHTS RESERVED.\n",
      "IN NO CIRCUMSTANCE SHALL WIND BE RESPONSIBLE FOR ANY DAMAGES OR LOSSES CAUSED BY USING WIND QUANT API FOR Python.\n"
     ]
    }
   ],
   "source": [
    "import numpy as np\n",
    "import pandas as pd\n",
    "import matplotlib.pyplot as plt\n",
    "import matplotlib.dates as mdates\n",
    "import copy\n",
    "from WindPy import w\n",
    "w.start()\n",
    "from function import *\n",
    "from nav_research import NavResearch\n",
    "from pathlib import Path\n",
    "import os\n",
    "import shutil\n",
    "import pyecharts.options as opts\n",
    "from pyecharts.charts import Line\n",
    "from pyecharts.globals import ThemeType\n",
    "import warnings\n",
    "warnings.filterwarnings(\"ignore\")\n",
    "warnings.simplefilter('ignore')\n",
    "\n",
    "plt.rcParams['font.sans-serif'] = ['Microsoft YaHei']\n",
    "plt.rcParams['axes.unicode_minus'] = False"
   ]
  },
  {
   "cell_type": "code",
   "execution_count": 2,
   "metadata": {},
   "outputs": [
    {
     "data": {
      "text/html": [
       "<div>\n",
       "<style scoped>\n",
       "    .dataframe tbody tr th:only-of-type {\n",
       "        vertical-align: middle;\n",
       "    }\n",
       "\n",
       "    .dataframe tbody tr th {\n",
       "        vertical-align: top;\n",
       "    }\n",
       "\n",
       "    .dataframe thead th {\n",
       "        text-align: right;\n",
       "    }\n",
       "</style>\n",
       "<table border=\"1\" class=\"dataframe\">\n",
       "  <thead>\n",
       "    <tr style=\"text-align: right;\">\n",
       "      <th></th>\n",
       "      <th>strategy</th>\n",
       "      <th>fund_code</th>\n",
       "      <th>fund_name</th>\n",
       "      <th>benchmark_code</th>\n",
       "      <th>benchmark_name</th>\n",
       "      <th>threshold</th>\n",
       "    </tr>\n",
       "  </thead>\n",
       "  <tbody>\n",
       "    <tr>\n",
       "      <th>0</th>\n",
       "      <td>主观价值</td>\n",
       "      <td>SQJ763</td>\n",
       "      <td>睿郡财富11号1期</td>\n",
       "      <td>HSI.HI</td>\n",
       "      <td>恒生指数</td>\n",
       "      <td>-0.10</td>\n",
       "    </tr>\n",
       "    <tr>\n",
       "      <th>1</th>\n",
       "      <td>主观价值</td>\n",
       "      <td>SS5163</td>\n",
       "      <td>红筹长线3号</td>\n",
       "      <td>000300.SH</td>\n",
       "      <td>沪深300</td>\n",
       "      <td>-0.10</td>\n",
       "    </tr>\n",
       "    <tr>\n",
       "      <th>2</th>\n",
       "      <td>量化CTA</td>\n",
       "      <td>SS0221</td>\n",
       "      <td>均成CTA1号</td>\n",
       "      <td>NH0100.NHF</td>\n",
       "      <td>南华商品指数</td>\n",
       "      <td>-0.10</td>\n",
       "    </tr>\n",
       "    <tr>\n",
       "      <th>3</th>\n",
       "      <td>套利</td>\n",
       "      <td>SZH690</td>\n",
       "      <td>辰元优选稳健</td>\n",
       "      <td>H11009.CSI</td>\n",
       "      <td>中证综合债</td>\n",
       "      <td>-0.03</td>\n",
       "    </tr>\n",
       "    <tr>\n",
       "      <th>4</th>\n",
       "      <td>主观CTA</td>\n",
       "      <td>SM6151</td>\n",
       "      <td>草本优益1号</td>\n",
       "      <td>NH0100.NHF</td>\n",
       "      <td>南华商品指数</td>\n",
       "      <td>-0.10</td>\n",
       "    </tr>\n",
       "    <tr>\n",
       "      <th>5</th>\n",
       "      <td>主观CTA</td>\n",
       "      <td>SM6151</td>\n",
       "      <td>草本致远1号</td>\n",
       "      <td>NH0300.NHF</td>\n",
       "      <td>南华农产品指数</td>\n",
       "      <td>-0.10</td>\n",
       "    </tr>\n",
       "  </tbody>\n",
       "</table>\n",
       "</div>"
      ],
      "text/plain": [
       "  strategy fund_code  fund_name benchmark_code benchmark_name  threshold\n",
       "0     主观价值    SQJ763  睿郡财富11号1期         HSI.HI           恒生指数      -0.10\n",
       "1     主观价值    SS5163     红筹长线3号      000300.SH          沪深300      -0.10\n",
       "2    量化CTA    SS0221    均成CTA1号     NH0100.NHF         南华商品指数      -0.10\n",
       "3       套利    SZH690     辰元优选稳健     H11009.CSI          中证综合债      -0.03\n",
       "4    主观CTA    SM6151     草本优益1号     NH0100.NHF         南华商品指数      -0.10\n",
       "5    主观CTA    SM6151     草本致远1号     NH0300.NHF        南华农产品指数      -0.10"
      ]
     },
     "execution_count": 2,
     "metadata": {},
     "output_type": "execute_result"
    }
   ],
   "source": [
    "basic_info = load_data(r\"data\\产品目录.xlsx\")\n",
    "basic_info"
   ]
  },
  {
   "cell_type": "code",
   "execution_count": 3,
   "metadata": {},
   "outputs": [
    {
     "name": "stdout",
     "output_type": "stream",
     "text": [
      "Deleted: C:\\Users\\17820\\Desktop\\VScode\\Private_nav_research\\docs\\index.html\n",
      "Deleted: C:\\Users\\17820\\Desktop\\VScode\\Private_nav_research\\docs\\主观CTA\\20180907_20241206_草本优益1号_nav_analysis.html\n",
      "Deleted: C:\\Users\\17820\\Desktop\\VScode\\Private_nav_research\\docs\\主观CTA\\20201106_20241206_草本致远1号_nav_analysis.html\n",
      "Deleted: C:\\Users\\17820\\Desktop\\VScode\\Private_nav_research\\docs\\主观价值\\20170322_20241018_红筹长线3号_nav_analysis.html\n",
      "Deleted: C:\\Users\\17820\\Desktop\\VScode\\Private_nav_research\\docs\\主观价值\\20210625_20241025_睿郡财富11号1期_nav_analysis.html\n",
      "Deleted: C:\\Users\\17820\\Desktop\\VScode\\Private_nav_research\\docs\\套利\\20230209_20241129_辰元优选稳健_nav_analysis.html\n",
      "Deleted: C:\\Users\\17820\\Desktop\\VScode\\Private_nav_research\\docs\\量化CTA\\20170301_20241206_均成CTA1号_nav_analysis.html\n"
     ]
    }
   ],
   "source": [
    "# 删除html文件\n",
    "def delete_html_files(directory):\n",
    "    # 遍历目录及其子目录\n",
    "    for root, dirs, files in os.walk(directory):\n",
    "        for file in files:\n",
    "            # 检查文件是否以.html 结尾\n",
    "            if file.endswith('.html'):\n",
    "                file_path = os.path.join(root, file)\n",
    "                try:\n",
    "                    # 删除文件\n",
    "                    os.remove(file_path)\n",
    "                    print(f\"Deleted: {file_path}\")\n",
    "                except Exception as e:\n",
    "                    print(f\"Error deleting {file_path}: {e}\")\n",
    "\n",
    "directory_to_clean = r\"C:\\Users\\17820\\Desktop\\VScode\\Private_nav_research\\docs\"\n",
    "delete_html_files(directory_to_clean)"
   ]
  },
  {
   "cell_type": "code",
   "execution_count": 4,
   "metadata": {},
   "outputs": [
    {
     "name": "stdout",
     "output_type": "stream",
     "text": [
      "均成CTA1号无法推断频率,自动转为周度\n"
     ]
    }
   ],
   "source": [
    "# 生成新的html文件\n",
    "for row in basic_info.itertuples(index=False, name=None):\n",
    "    nav_data_path = os.path.join(r\"C:\\Users\\17820\\Desktop\\VScode\\Private_nav_research\\data\",row[2]+\".xlsx\")\n",
    "    demo = NavResearch(nav_data_path,row[0],row[1],row[2],row[3],row[4],row[5])\n",
    "    demo.get_data()\n",
    "    demo.get_analysis_table()\n",
    "    demo.get_html()"
   ]
  },
  {
   "cell_type": "code",
   "execution_count": 5,
   "metadata": {},
   "outputs": [
    {
     "name": "stdout",
     "output_type": "stream",
     "text": [
      "<generator object Path.rglob at 0x000001DA3CA24590>\n"
     ]
    }
   ],
   "source": [
    "# 生成新的index.html文件\n",
    "def generate_index_html(folder_path: Path):\n",
    "    # 获取目录及其子目录中的所有 HTML 文件\n",
    "    html_files = folder_path.rglob(\"*.html\")\n",
    "    print(html_files)\n",
    "\n",
    "    # 创建一个新的 index.html 文件\n",
    "    with open(folder_path.joinpath(\"index.html\"), \"w\", encoding=\"utf-8\") as f:\n",
    "        f.write(\n",
    "            \"\"\"<html>\n",
    "<head>\n",
    "<meta charset=\"UTF-8\">\n",
    "<title>Value over Time</title>\n",
    "<style>\n",
    "    body {\n",
    "        font-family: Arial, sans-serif;\n",
    "        font-size: 20px;\n",
    "        color: blue;\n",
    "    }\n",
    "    h2 {\n",
    "        font-size: 25px;\n",
    "        color: blue;\n",
    "\n",
    "    }\n",
    "    a {\n",
    "        text-decoration: none;\n",
    "    }\n",
    "</style>\n",
    "</head>\n",
    "<body>\"\"\"\n",
    "        )\n",
    "        # 创建一个集合来存储已经处理过的文件夹，避免重复创建链接\n",
    "        processed_folders = set()\n",
    "        # 为每个 HTML 文件创建一个链接\n",
    "        for html_file in html_files:\n",
    "            if html_file.name == \"index.html\":\n",
    "                continue\n",
    "            relative_path = html_file.relative_to(folder_path)\n",
    "            # 如果文件夹还没有被处理过，为文件夹创建一个链接\n",
    "            if html_file.parent not in processed_folders:\n",
    "                f.write(f\"<h2><a>{html_file.parent.name}</a></h2>\\n\")\n",
    "                processed_folders.add(html_file.parent)\n",
    "\n",
    "            # 创建HTML文件的链接\n",
    "            f.write(\n",
    "                f'<a href=\"{relative_path}\">{relative_path.name.replace(\"_nav_analysis\",\"\")}</a><br/>\\n'\n",
    "            )\n",
    "\n",
    "        f.write(\"</body>\\n</html>\")\n",
    "\n",
    "# 使用函数\n",
    "generate_index_html(Path(r\"C:\\Users\\17820\\Desktop\\VScode\\Private_nav_research\\docs\"))"
   ]
  }
 ],
 "metadata": {
  "kernelspec": {
   "display_name": "Python 3",
   "language": "python",
   "name": "python3"
  },
  "language_info": {
   "codemirror_mode": {
    "name": "ipython",
    "version": 3
   },
   "file_extension": ".py",
   "mimetype": "text/x-python",
   "name": "python",
   "nbconvert_exporter": "python",
   "pygments_lexer": "ipython3",
   "version": "3.12.4"
  }
 },
 "nbformat": 4,
 "nbformat_minor": 2
}
