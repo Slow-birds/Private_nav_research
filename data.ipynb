{
 "cells": [
  {
   "cell_type": "code",
   "execution_count": 1,
   "metadata": {},
   "outputs": [
    {
     "name": "stdout",
     "output_type": "stream",
     "text": [
      "Welcome to use Wind Quant API for Python (WindPy)!\n",
      "\n",
      "COPYRIGHT (C) 2024 WIND INFORMATION CO., LTD. ALL RIGHTS RESERVED.\n",
      "IN NO CIRCUMSTANCE SHALL WIND BE RESPONSIBLE FOR ANY DAMAGES OR LOSSES CAUSED BY USING WIND QUANT API FOR Python.\n"
     ]
    }
   ],
   "source": [
    "import pandas as pd\n",
    "import matplotlib.pyplot as plt\n",
    "from WindPy import w\n",
    "w.start()\n",
    "from function import *\n",
    "from nav_research import NavResearch\n",
    "from pathlib import Path\n",
    "import os\n",
    "import warnings\n",
    "warnings.filterwarnings(\"ignore\")\n",
    "warnings.simplefilter('ignore')\n",
    "\n",
    "plt.rcParams['font.sans-serif'] = ['Microsoft YaHei']\n",
    "plt.rcParams['axes.unicode_minus'] = False"
   ]
  },
  {
   "cell_type": "code",
   "execution_count": 25,
   "metadata": {},
   "outputs": [],
   "source": [
    "def multi_fund_comparison(tables,fund_name):\n",
    "    data1 = tables[0]\n",
    "    data2 = tables[1].head(1)\n",
    "    data3 = pd.DataFrame(columns=[2019,2020,2021,2022,2023,2024])\n",
    "    data4 = tables[2]\n",
    "    years = [2019, 2020, 2021, 2022, 2023, 2024]\n",
    "    for year in years:\n",
    "        data3[year] = data4.loc[data4[\"分年度业绩\"] == year, f\"{fund_name}_收益\"].values\n",
    "    data = pd.concat([data1,data2,data3], axis=1)\n",
    "    data.drop(columns=[\"基准指数\",\"整体业绩\"], inplace=True)\n",
    "    return data"
   ]
  },
  {
   "cell_type": "code",
   "execution_count": 31,
   "metadata": {},
   "outputs": [
    {
     "name": "stdout",
     "output_type": "stream",
     "text": [
      "草本优益1号无法推断频率,自动转为周度\n",
      "济海实恒对冲二号无法推断频率,自动转为周度\n",
      "均成CTA1号无法推断频率,自动转为周度\n",
      "弘源多元化CTA无法推断频率,自动转为周度\n",
      "宏锡量化CTA7号无法推断频率,自动转为周度\n",
      "会世元丰CTA1号无法推断频率,自动转为周度\n",
      "远澜翠柏1号无法推断频率,自动转为周度\n"
     ]
    }
   ],
   "source": [
    "basic_info = load_data(\"产品目录.xlsx\")\n",
    "data = pd.DataFrame()\n",
    "files_list_series = pd.Series([i for i in Path(\"./data\").rglob(\"*.xlsx\")])\n",
    "for row in basic_info.itertuples(index=False, name=None):\n",
    "    nav_df_path = files_list_series[files_list_series.apply(lambda x: row[3] in x.stem)]\n",
    "    assert len(nav_df_path) == 1, \"找到多个文件\"\n",
    "    demo = NavResearch(nav_df_path.item(),row[0],row[3],row[4],row[5],row[6])\n",
    "    demo.get_data()\n",
    "    tables = demo.get_analysis_table()\n",
    "    nav_df = multi_fund_comparison(tables,row[3])\n",
    "    data = pd.concat([data,nav_df], axis=0)"
   ]
  },
  {
   "cell_type": "code",
   "execution_count": 33,
   "metadata": {},
   "outputs": [],
   "source": [
    "data.to_excel('data.xlsx', index=False)"
   ]
  }
 ],
 "metadata": {
  "kernelspec": {
   "display_name": "Python 3",
   "language": "python",
   "name": "python3"
  },
  "language_info": {
   "codemirror_mode": {
    "name": "ipython",
    "version": 3
   },
   "file_extension": ".py",
   "mimetype": "text/x-python",
   "name": "python",
   "nbconvert_exporter": "python",
   "pygments_lexer": "ipython3",
   "version": "3.12.4"
  }
 },
 "nbformat": 4,
 "nbformat_minor": 2
}
