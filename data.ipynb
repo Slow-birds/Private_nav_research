{
 "cells": [
  {
   "cell_type": "code",
   "execution_count": 1,
   "metadata": {},
   "outputs": [
    {
     "name": "stdout",
     "output_type": "stream",
     "text": [
      "Welcome to use Wind Quant API for Python (WindPy)!\n",
      "\n",
      "COPYRIGHT (C) 2024 WIND INFORMATION CO., LTD. ALL RIGHTS RESERVED.\n",
      "IN NO CIRCUMSTANCE SHALL WIND BE RESPONSIBLE FOR ANY DAMAGES OR LOSSES CAUSED BY USING WIND QUANT API FOR Python.\n"
     ]
    }
   ],
   "source": [
    "import pandas as pd\n",
    "import matplotlib.pyplot as plt\n",
    "from WindPy import w\n",
    "w.start()\n",
    "from function import *\n",
    "from nav_research import NavResearch\n",
    "from pathlib import Path\n",
    "import os\n",
    "import warnings\n",
    "warnings.filterwarnings(\"ignore\")\n",
    "warnings.simplefilter('ignore')\n",
    "\n",
    "plt.rcParams['font.sans-serif'] = ['Microsoft YaHei']\n",
    "plt.rcParams['axes.unicode_minus'] = False"
   ]
  },
  {
   "cell_type": "code",
   "execution_count": 14,
   "metadata": {},
   "outputs": [],
   "source": [
    "folder_path = Path(\"docs\")"
   ]
  },
  {
   "cell_type": "code",
   "execution_count": 15,
   "metadata": {},
   "outputs": [],
   "source": [
    "html_files = list(folder_path.rglob(\"*.html\"))"
   ]
  },
  {
   "cell_type": "code",
   "execution_count": 21,
   "metadata": {},
   "outputs": [
    {
     "data": {
      "text/plain": [
       "WindowsPath('docs/主观CTA')"
      ]
     },
     "execution_count": 21,
     "metadata": {},
     "output_type": "execute_result"
    }
   ],
   "source": [
    "html_files[1].parent"
   ]
  },
  {
   "cell_type": "code",
   "execution_count": 17,
   "metadata": {},
   "outputs": [
    {
     "data": {
      "text/plain": [
       "{WindowsPath('docs/主观CTA'), WindowsPath('docs/套利'), WindowsPath('docs/量化CTA')}"
      ]
     },
     "execution_count": 17,
     "metadata": {},
     "output_type": "execute_result"
    }
   ],
   "source": [
    "unique_folders = {html_file.parent for html_file in html_files if html_file.name != \"index.html\"}\n",
    "unique_folders"
   ]
  },
  {
   "cell_type": "code",
   "execution_count": null,
   "metadata": {},
   "outputs": [],
   "source": [
    "from pathlib import Path\n",
    "\n",
    "def generate_index_html(folder_path: Path):\n",
    "    # 获取目录及其子目录中的所有 HTML 文件\n",
    "    html_files = list(folder_path.rglob(\"*.html\"))\n",
    "    \n",
    "    # 创建一个集合来存储所有唯一的文件夹路径\n",
    "    unique_folders = {html_file.parent for html_file in html_files if html_file.name != \"index.html\"}\n",
    "    \n",
    "    # 对文件夹进行排序（这里使用自然排序，但可以根据需要更改）\n",
    "    sorted_folders = [\"主观CTA\",\"量化CTA\",\"套利\"]\n",
    "    \n",
    "    # 创建一个新的 index.html 文件\n",
    "    with open(folder_path.joinpath(\"index.html\"), \"w\", encoding=\"utf-8\") as f:\n",
    "        f.write(\n",
    "            \"\"\"<html>\n",
    "<head>\n",
    "<meta charset=\"UTF-8\">\n",
    "<title>Value over Time</title>\n",
    "<style>\n",
    "    body {\n",
    "        font-family: Arial, sans-serif;\n",
    "        font-size: 20px;\n",
    "        color: blue;\n",
    "    }\n",
    "    h2 {\n",
    "        font-size: 25px;\n",
    "        color: blue;\n",
    "    }\n",
    "    a {\n",
    "        text-decoration: none;\n",
    "    }\n",
    "</style>\n",
    "</head>\n",
    "<body>\"\"\"\n",
    "        )\n",
    "        \n",
    "        # 为每个文件夹创建一个标题，并列出其下的所有HTML文件\n",
    "        for folder in sorted_folders:\n",
    "            folder_name = folder.name\n",
    "            f.write(f\"<h2><a href='{folder.relative_to(folder_path)}'>{folder_name}</a></h2>\\n\")\n",
    "            f.write(\"<ul>\\n\")\n",
    "            for html_file in html_files:\n",
    "                if html_file.parent == folder:\n",
    "                    cleaned_name = html_file.name.replace(\"_nav_analysis\", \"\")\n",
    "                    relative_path = html_file.relative_to(folder_path)\n",
    "                    f.write(f'  <li><a href=\"{relative_path}\" target=\"_blank\">{cleaned_name}</a></li>\\n')\n",
    "            f.write(\"</ul>\\n\")\n",
    "        \n",
    "        f.write(\"</body>\\n</html>\")\n",
    "\n",
    "# 使用函数\n",
    "generate_index_html(Path(\"docs\"))"
   ]
  }
 ],
 "metadata": {
  "kernelspec": {
   "display_name": "Python 3",
   "language": "python",
   "name": "python3"
  },
  "language_info": {
   "codemirror_mode": {
    "name": "ipython",
    "version": 3
   },
   "file_extension": ".py",
   "mimetype": "text/x-python",
   "name": "python",
   "nbconvert_exporter": "python",
   "pygments_lexer": "ipython3",
   "version": "3.12.4"
  }
 },
 "nbformat": 4,
 "nbformat_minor": 2
}
