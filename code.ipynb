{
 "cells": [
  {
   "cell_type": "code",
   "execution_count": 1,
   "metadata": {},
   "outputs": [],
   "source": [
    "import pandas as pd\n",
    "import os\n",
    "import base64\n",
    "import json\n",
    "from pathlib import Path\n",
    "from openai import OpenAI"
   ]
  },
  {
   "cell_type": "code",
   "execution_count": 2,
   "metadata": {},
   "outputs": [],
   "source": [
    "system_promtp = \"\"\"\n",
    "\n",
    "你是一位专注于图片内容提取的专业人士, 你需要帮助人类把图片内容提取出来保存为字典格式数据。\n",
    "\n",
    "你只能输出以下DataFrame格式, 禁止输出其他内容, 禁止输出字典以外的文字信息: \n",
    "选项1: \n",
    "{  \n",
    "    \"序号\": list,  \n",
    "    \"证券代码\": list,  \n",
    "    \"证券名称\": list,\n",
    "    \"总持仓\" :list,\n",
    "    \"可变持仓\":list,\n",
    "    \"参考市值\":list,\n",
    "    \"现价\":list,\n",
    "    \"涨幅\":list,\n",
    "    \"当日盈亏\":list,\n",
    "}  \n",
    "\"\"\"\n",
    "\n",
    "user = \"\"\"\n",
    "将图片整理为dataframe格式数据。\n",
    "\"\"\""
   ]
  },
  {
   "cell_type": "code",
   "execution_count": 3,
   "metadata": {},
   "outputs": [],
   "source": [
    "def kimi_model(image_path, system_promtp, user):\n",
    "    with open(image_path, \"rb\") as f:\n",
    "        image_data = f.read()\n",
    "    image_url = f\"data:image/{os.path.splitext(image_path)[1]};base64,{base64.b64encode(image_data).decode('utf-8')}\"\n",
    "    client = OpenAI(\n",
    "        api_key=\"sk-8rz6aB58IUEYFyN8kLwyNk1FD0zl9HCjMTzJOxxWJ2RY9h0q\",\n",
    "        base_url=\"https://api.moonshot.cn/v1\",\n",
    "    )\n",
    "    completion = client.chat.completions.create(\n",
    "        model=\"moonshot-v1-8k-vision-preview\",\n",
    "        messages=[\n",
    "            {\"role\": \"system\", \"content\": system_promtp},\n",
    "            {\n",
    "                \"role\": \"user\",\n",
    "                \"content\": [\n",
    "                    {\n",
    "                        \"type\": \"image_url\",\n",
    "                        \"image_url\": {\n",
    "                            \"url\": image_url,\n",
    "                        },\n",
    "                    },\n",
    "                    {\n",
    "                        \"type\": \"text\",\n",
    "                        \"text\": user,\n",
    "                    },\n",
    "                ],\n",
    "            },\n",
    "        ],\n",
    "    )\n",
    "    response = completion.choices[0].message.content\n",
    "    return response"
   ]
  },
  {
   "cell_type": "code",
   "execution_count": 4,
   "metadata": {},
   "outputs": [],
   "source": [
    "files_list_series = pd.Series(\n",
    "        [\n",
    "            i\n",
    "            for i in Path(\"./股票持仓\").rglob(\"*\")\n",
    "            if i.suffix.lower() in {\".png\"}\n",
    "        ]\n",
    "    )"
   ]
  },
  {
   "cell_type": "code",
   "execution_count": 6,
   "metadata": {},
   "outputs": [],
   "source": [
    "data_all = pd.DataFrame()\n",
    "for image_path in files_list_series:\n",
    "    response = kimi_model(image_path, system_promtp, user)\n",
    "    res = json.loads(response)\n",
    "    data = pd.DataFrame(res)\n",
    "    data[\"日期\"] = image_path.name.split('.')[0]\n",
    "    data_all = pd.concat([data_all, data], axis=0)"
   ]
  },
  {
   "cell_type": "code",
   "execution_count": null,
   "metadata": {},
   "outputs": [],
   "source": []
  }
 ],
 "metadata": {
  "kernelspec": {
   "display_name": "Python 3",
   "language": "python",
   "name": "python3"
  },
  "language_info": {
   "codemirror_mode": {
    "name": "ipython",
    "version": 3
   },
   "file_extension": ".py",
   "mimetype": "text/x-python",
   "name": "python",
   "nbconvert_exporter": "python",
   "pygments_lexer": "ipython3",
   "version": "3.12.4"
  }
 },
 "nbformat": 4,
 "nbformat_minor": 2
}
