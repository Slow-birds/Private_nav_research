{
 "cells": [
  {
   "cell_type": "code",
   "execution_count": 1,
   "id": "829d452b",
   "metadata": {},
   "outputs": [],
   "source": [
    "import pandas as pd\n",
    "import time\n",
    "import random\n",
    "from DrissionPage import ChromiumPage,ChromiumOptions"
   ]
  },
  {
   "cell_type": "code",
   "execution_count": 2,
   "id": "5d48d1f9",
   "metadata": {},
   "outputs": [],
   "source": [
    "# 创建浏览器配置对象，指定浏览器路径\n",
    "co = ChromiumOptions().set_browser_path(r'C:\\Users\\17820\\AppData\\Local\\Google\\Chrome\\Application\\chrome.exe')\n",
    "# 用该配置创建页面对象\n",
    "page = ChromiumPage(addr_or_opts=co)"
   ]
  },
  {
   "cell_type": "code",
   "execution_count": null,
   "id": "0d2a3560",
   "metadata": {},
   "outputs": [],
   "source": []
  }
 ],
 "metadata": {
  "kernelspec": {
   "display_name": "Python 3",
   "language": "python",
   "name": "python3"
  },
  "language_info": {
   "codemirror_mode": {
    "name": "ipython",
    "version": 3
   },
   "file_extension": ".py",
   "mimetype": "text/x-python",
   "name": "python",
   "nbconvert_exporter": "python",
   "pygments_lexer": "ipython3",
   "version": "3.12.4"
  }
 },
 "nbformat": 4,
 "nbformat_minor": 5
}
