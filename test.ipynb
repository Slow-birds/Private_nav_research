{
 "cells": [
  {
   "cell_type": "code",
   "execution_count": 1,
   "metadata": {},
   "outputs": [],
   "source": [
    "import requests\n",
    "import pandas as pd\n",
    "from pathlib import Path\n",
    "import time\n",
    "import os\n",
    "\n"
   ]
  },
  {
   "cell_type": "code",
   "execution_count": 2,
   "metadata": {},
   "outputs": [],
   "source": [
    "fund_info = pd.read_csv('fund_list.txt', delimiter=' ')"
   ]
  },
  {
   "cell_type": "code",
   "execution_count": 3,
   "metadata": {},
   "outputs": [],
   "source": [
    "def get_nav_data(fund_name,fund_nencoding):\n",
    "    headers = {\n",
    "        \"access-token\": \"b80e7f84dec465d910073c99aea0c4ffbc64c7587cb005b5dfe9cbd767028d74dcff01e9e093d23385a27848395b0551\",\n",
    "    }\n",
    "    url = f\"https://pyapi.huofuniu.com/pyapi/fund/viewv2?fid={fund_nencoding}&pt=1&shareToken=\"\n",
    "    res = requests.get(url, headers=headers)\n",
    "    nav_data = pd.DataFrame(res.json()[\"data\"][\"fund\"][\"prices\"])\n",
    "    nav_data = nav_data.rename(\n",
    "        columns={\n",
    "            \"pd\": \"日期\",\n",
    "            \"nav\": \"单位净值\",\n",
    "            \"cnw\": \"累计净值\",\n",
    "            \"cn\": \"复权净值\",\n",
    "            \"pc\": \"涨跌幅\",\n",
    "            \"drawdown\": \"最大回撤\",\n",
    "        }\n",
    "    ).drop(columns=[\"e_pc\"])\n",
    "    nav_data = nav_data[[\"日期\", \"单位净值\", \"累计净值\", \"复权净值\"]]\n",
    "    nav_data[\"日期\"] = pd.to_datetime(nav_data[\"日期\"])\n",
    "    nav_data.to_csv(\n",
    "        Path(\n",
    "            rf\"data/{fund_name}_{nav_data[\"日期\"].max().strftime(\"%Y-%m-%d\")}.csv\"\n",
    "        ),\n",
    "        index=False,\n",
    "        encoding=\"utf-8-sig\",\n",
    "    )\n",
    "    return nav_data"
   ]
  },
  {
   "cell_type": "code",
   "execution_count": 4,
   "metadata": {},
   "outputs": [
    {
     "name": "stdout",
     "output_type": "stream",
     "text": [
      "Deleted file: data\\济海实恒对冲二号_2025-01-21.csv\n",
      "正在爬取济海实恒对冲二号净值\n",
      "Deleted file: data\\草本优益1号_2025-01-17.csv\n",
      "正在爬取草本优益1号净值\n",
      "Deleted file: data\\草本致远1号_2025-01-17.csv\n",
      "正在爬取草本致远1号净值\n",
      "Deleted file: data\\星恒哲萌1号_2025-01-17.csv\n",
      "正在爬取星恒哲萌1号净值\n",
      "Deleted file: data\\均成CTA1号_2025-01-17.csv\n",
      "正在爬取均成CTA1号净值\n",
      "Deleted file: data\\旭诺CTA三号_2025-01-17.csv\n",
      "正在爬取旭诺CTA三号净值\n",
      "Deleted file: data\\宏锡量化CTA7号_2025-01-17.csv\n",
      "正在爬取宏锡量化CTA7号净值\n",
      "Deleted file: data\\千衍九凌1号_2025-01-17.csv\n",
      "正在爬取千衍九凌1号净值\n",
      "Deleted file: data\\众壹资产量合兴成一号_2025-01-17.csv\n",
      "正在爬取众壹资产量合兴成一号净值\n",
      "Deleted file: data\\弘源多元化CTA_2025-01-17.csv\n",
      "正在爬取弘源多元化CTA净值\n",
      "Deleted file: data\\会世元丰CTA1号_2025-01-17.csv\n",
      "正在爬取会世元丰CTA1号净值\n",
      "Deleted file: data\\远澜云杉_2025-01-17.csv\n",
      "正在爬取远澜云杉净值\n",
      "Deleted file: data\\量派CTA七号_2025-01-17.csv\n",
      "正在爬取量派CTA七号净值\n",
      "Deleted file: data\\安贤CTA量化一号_2025-01-17.csv\n",
      "正在爬取安贤CTA量化一号净值\n",
      "Deleted file: data\\远澜翠柏1号_2024-12-20.csv\n",
      "正在爬取远澜翠柏1号净值\n",
      "Deleted file: data\\旌安1号_2024-07-26.csv\n",
      "正在爬取旌安1号净值\n",
      "Deleted file: data\\辰元优选稳健_2025-01-17.csv\n",
      "正在爬取辰元优选稳健净值\n",
      "Deleted file: data\\殊馥馥源套利1号_2025-01-17.csv\n",
      "正在爬取殊馥馥源套利1号净值\n",
      "Deleted file: data\\国元期货安睿二号_2025-01-17.csv\n",
      "正在爬取国元期货安睿二号净值\n",
      "Deleted file: data\\绰瑞汇海9号_2025-01-17.csv\n",
      "正在爬取绰瑞汇海9号净值\n",
      "Deleted file: data\\跃威稳进一号_2025-01-17.csv\n",
      "正在爬取跃威稳进一号净值\n",
      "Deleted file: data\\跃威佳成一号_2025-01-17.csv\n",
      "正在爬取跃威佳成一号净值\n",
      "爬取完成\n"
     ]
    }
   ],
   "source": [
    "for row in fund_info.itertuples(index=False, name=None):\n",
    "    files_list_series = pd.Series([i for i in Path(\"./data\").rglob(\"*.csv\")])\n",
    "    contains_specific_string = files_list_series.apply(lambda x: row[0] in str(x.name)).any()\n",
    "    if contains_specific_string:\n",
    "        files_to_delete = files_list_series[files_list_series.apply(lambda x: row[0] in str(x.name))]\n",
    "        for file_path in files_to_delete:\n",
    "                os.remove(file_path)\n",
    "                print(f\"Deleted file: {file_path}\")\n",
    "    get_nav_data(row[0],row[1])\n",
    "    print(f\"正在爬取{row[0]}净值\")\n",
    "    time.sleep(2)\n",
    "print(\"爬取完成\")"
   ]
  }
 ],
 "metadata": {
  "kernelspec": {
   "display_name": "Python 3",
   "language": "python",
   "name": "python3"
  },
  "language_info": {
   "codemirror_mode": {
    "name": "ipython",
    "version": 3
   },
   "file_extension": ".py",
   "mimetype": "text/x-python",
   "name": "python",
   "nbconvert_exporter": "python",
   "pygments_lexer": "ipython3",
   "version": "3.12.4"
  }
 },
 "nbformat": 4,
 "nbformat_minor": 2
}
