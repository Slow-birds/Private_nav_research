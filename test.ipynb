{
 "cells": [
  {
   "cell_type": "code",
   "execution_count": 1,
   "metadata": {},
   "outputs": [
    {
     "name": "stdout",
     "output_type": "stream",
     "text": [
      "Welcome to use Wind Quant API for Python (WindPy)!\n",
      "\n",
      "COPYRIGHT (C) 2024 WIND INFORMATION CO., LTD. ALL RIGHTS RESERVED.\n",
      "IN NO CIRCUMSTANCE SHALL WIND BE RESPONSIBLE FOR ANY DAMAGES OR LOSSES CAUSED BY USING WIND QUANT API FOR Python.\n"
     ]
    }
   ],
   "source": [
    "import pandas as pd\n",
    "from pathlib import Path\n",
    "from function import load_data"
   ]
  },
  {
   "cell_type": "code",
   "execution_count": 2,
   "metadata": {},
   "outputs": [],
   "source": [
    "files_list_series = pd.Series([i for i in Path(\"./nav_data\").rglob(\"*\") if i.suffix.lower() in {\".csv\", \".xlsx\",\".xls\"}])"
   ]
  },
  {
   "cell_type": "code",
   "execution_count": 4,
   "metadata": {},
   "outputs": [],
   "source": [
    "fund_info = load_data(\"产品代码.xlsx\")\n",
    "fund_info[\"基金代码\"] = fund_info[\"基金代码\"].astype(str)"
   ]
  },
  {
   "cell_type": "code",
   "execution_count": 7,
   "metadata": {},
   "outputs": [
    {
     "data": {
      "text/html": [
       "<div>\n",
       "<style scoped>\n",
       "    .dataframe tbody tr th:only-of-type {\n",
       "        vertical-align: middle;\n",
       "    }\n",
       "\n",
       "    .dataframe tbody tr th {\n",
       "        vertical-align: top;\n",
       "    }\n",
       "\n",
       "    .dataframe thead th {\n",
       "        text-align: right;\n",
       "    }\n",
       "</style>\n",
       "<table border=\"1\" class=\"dataframe\">\n",
       "  <thead>\n",
       "    <tr style=\"text-align: right;\">\n",
       "      <th></th>\n",
       "      <th>大类策略</th>\n",
       "      <th>基金代码</th>\n",
       "      <th>基金名称</th>\n",
       "      <th>基准代码</th>\n",
       "      <th>基准名称</th>\n",
       "      <th>最大回撤阈值</th>\n",
       "    </tr>\n",
       "  </thead>\n",
       "  <tbody>\n",
       "    <tr>\n",
       "      <th>0</th>\n",
       "      <td>灵活配置</td>\n",
       "      <td>SGV993</td>\n",
       "      <td>聚鸣涌金8号A期</td>\n",
       "      <td>881001.WI</td>\n",
       "      <td>万得全A</td>\n",
       "      <td>-0.1</td>\n",
       "    </tr>\n",
       "    <tr>\n",
       "      <th>1</th>\n",
       "      <td>灵活配置</td>\n",
       "      <td>SGJ508</td>\n",
       "      <td>玄元元丰2号A</td>\n",
       "      <td>881001.WI</td>\n",
       "      <td>万得全A</td>\n",
       "      <td>-0.1</td>\n",
       "    </tr>\n",
       "    <tr>\n",
       "      <th>2</th>\n",
       "      <td>灵活配置</td>\n",
       "      <td>SLY951</td>\n",
       "      <td>山楂树五期</td>\n",
       "      <td>881001.WI</td>\n",
       "      <td>万得全A</td>\n",
       "      <td>-0.1</td>\n",
       "    </tr>\n",
       "    <tr>\n",
       "      <th>3</th>\n",
       "      <td>灵活配置</td>\n",
       "      <td>SSS087</td>\n",
       "      <td>元品南星A</td>\n",
       "      <td>881001.WI</td>\n",
       "      <td>万得全A</td>\n",
       "      <td>-0.1</td>\n",
       "    </tr>\n",
       "    <tr>\n",
       "      <th>4</th>\n",
       "      <td>灵活配置</td>\n",
       "      <td>SLZ483</td>\n",
       "      <td>循远安心十三号A</td>\n",
       "      <td>881001.WI</td>\n",
       "      <td>万得全A</td>\n",
       "      <td>-0.1</td>\n",
       "    </tr>\n",
       "    <tr>\n",
       "      <th>...</th>\n",
       "      <td>...</td>\n",
       "      <td>...</td>\n",
       "      <td>...</td>\n",
       "      <td>...</td>\n",
       "      <td>...</td>\n",
       "      <td>...</td>\n",
       "    </tr>\n",
       "    <tr>\n",
       "      <th>84</th>\n",
       "      <td>多策略</td>\n",
       "      <td>SVC372</td>\n",
       "      <td>博普CTA股票全市场五号1期</td>\n",
       "      <td>881001.WI</td>\n",
       "      <td>万得全A</td>\n",
       "      <td>-0.1</td>\n",
       "    </tr>\n",
       "    <tr>\n",
       "      <th>85</th>\n",
       "      <td>多策略</td>\n",
       "      <td>953832</td>\n",
       "      <td>君享大类资产全天候2号</td>\n",
       "      <td>881001.WI</td>\n",
       "      <td>万得全A</td>\n",
       "      <td>-0.1</td>\n",
       "    </tr>\n",
       "    <tr>\n",
       "      <th>86</th>\n",
       "      <td>其他</td>\n",
       "      <td>SSB167</td>\n",
       "      <td>天演天睿</td>\n",
       "      <td>881001.WI</td>\n",
       "      <td>万得全A</td>\n",
       "      <td>-0.1</td>\n",
       "    </tr>\n",
       "    <tr>\n",
       "      <th>87</th>\n",
       "      <td>其他</td>\n",
       "      <td>STU233</td>\n",
       "      <td>博普凤祥13号</td>\n",
       "      <td>881001.WI</td>\n",
       "      <td>万得全A</td>\n",
       "      <td>-0.1</td>\n",
       "    </tr>\n",
       "    <tr>\n",
       "      <th>88</th>\n",
       "      <td>其他</td>\n",
       "      <td>SXA265</td>\n",
       "      <td>玖鹏宏远3号</td>\n",
       "      <td>881001.WI</td>\n",
       "      <td>万得全A</td>\n",
       "      <td>-0.1</td>\n",
       "    </tr>\n",
       "  </tbody>\n",
       "</table>\n",
       "<p>89 rows × 6 columns</p>\n",
       "</div>"
      ],
      "text/plain": [
       "    大类策略    基金代码            基金名称       基准代码  基准名称  最大回撤阈值\n",
       "0   灵活配置  SGV993        聚鸣涌金8号A期  881001.WI  万得全A    -0.1\n",
       "1   灵活配置  SGJ508         玄元元丰2号A  881001.WI  万得全A    -0.1\n",
       "2   灵活配置  SLY951           山楂树五期  881001.WI  万得全A    -0.1\n",
       "3   灵活配置  SSS087           元品南星A  881001.WI  万得全A    -0.1\n",
       "4   灵活配置  SLZ483        循远安心十三号A  881001.WI  万得全A    -0.1\n",
       "..   ...     ...             ...        ...   ...     ...\n",
       "84   多策略  SVC372  博普CTA股票全市场五号1期  881001.WI  万得全A    -0.1\n",
       "85   多策略  953832     君享大类资产全天候2号  881001.WI  万得全A    -0.1\n",
       "86    其他  SSB167            天演天睿  881001.WI  万得全A    -0.1\n",
       "87    其他  STU233         博普凤祥13号  881001.WI  万得全A    -0.1\n",
       "88    其他  SXA265          玖鹏宏远3号  881001.WI  万得全A    -0.1\n",
       "\n",
       "[89 rows x 6 columns]"
      ]
     },
     "execution_count": 7,
     "metadata": {},
     "output_type": "execute_result"
    }
   ],
   "source": [
    "fund_info"
   ]
  },
  {
   "cell_type": "code",
   "execution_count": 8,
   "metadata": {},
   "outputs": [],
   "source": [
    "nav_dfs = pd.DataFrame()\n",
    "for row in fund_info.itertuples(index=False, name=None):\n",
    "    nav_df_path = files_list_series[files_list_series.apply(lambda x: row[1] in x.stem)]\n",
    "    nav_df = load_data(nav_df_path.iloc[0])\n",
    "    nav_df = nav_df.rename(columns={'基金id': '基金名称', '累计单位净值': '复权净值'})\n",
    "    nav_df[\"基金代码\"] = row[1]\n",
    "    nav_df = nav_df[[\"基金代码\",\"基金名称\",\"日期\",\"单位净值\",\"累计净值\",\"复权净值\"]]\n",
    "    nav_dfs = pd.concat([nav_dfs, nav_df], ignore_index=True)"
   ]
  },
  {
   "cell_type": "code",
   "execution_count": 9,
   "metadata": {},
   "outputs": [],
   "source": [
    "nav_dfs.to_csv(\"nav_dfs.csv\",index=False)"
   ]
  },
  {
   "cell_type": "code",
   "execution_count": 11,
   "metadata": {},
   "outputs": [],
   "source": [
    "nav_dfs = load_data(\"nav_dfs.csv\")"
   ]
  },
  {
   "cell_type": "code",
   "execution_count": 14,
   "metadata": {},
   "outputs": [
    {
     "data": {
      "text/plain": [
       "array(['SGV993', 'SGJ508', 'SLY951', 'SSS087', 'SLZ483', 'SSJ285',\n",
       "       'SAJH67', 'NM798C', 'SLY430', 'STD157', 'SVM265', 'SXG650',\n",
       "       'STM350', 'XH489B', 'SNV630', 'SNL974', 'SJQ355', 'STA888',\n",
       "       'SACZ78', 'SQW547', 'SNS136', 'SND877', 'SGA864', 'SQJ763',\n",
       "       'SSB692', 'B0537A', 'SGN468', 'S25534', 'SQD495', 'SY2054',\n",
       "       'SSR924', 'SNK918', 'SB2582', 'SCQ830', 'STR328', 'SVG973',\n",
       "       'SVG083', 'XM601B', 'SAAB63', 'SJG631', 'SJY709', 'STL559',\n",
       "       'SNS444', 'SQD760', 'SQF469', 'SVY454', 'SQB871', 'VZ606B',\n",
       "       'SQT558', 'SLC039', 'SAGF01', 'SXJ577', 'SAHV07', 'SZZ812',\n",
       "       'B7800B', 'SST242', 'SZX403', 'SACZ89', 'ZZ676C', 'SGK063',\n",
       "       'SQW111', 'SSG488', 'SAFE06', 'SZF629', 'SQB775', 'SJJ733',\n",
       "       'SVP717', 'SZH788', 'SXY216', '953968', 'SAFP48', 'SAGF97',\n",
       "       'TB284B', 'SZF187', 'AHS76B', 'ACZ97B', 'TW548B', 'SVP574',\n",
       "       'SAFG55', 'SZG938', 'STR499', 'SLZ237', 'SVE049', 'STJ882',\n",
       "       'SVC372', '953832', 'SSB167', 'STU233', 'SXA265'], dtype=object)"
      ]
     },
     "execution_count": 14,
     "metadata": {},
     "output_type": "execute_result"
    }
   ],
   "source": [
    "nav_dfs[\"基金代码\"].unique()"
   ]
  },
  {
   "cell_type": "code",
   "execution_count": null,
   "metadata": {},
   "outputs": [],
   "source": [
    "\n"
   ]
  },
  {
   "cell_type": "code",
   "execution_count": null,
   "metadata": {},
   "outputs": [],
   "source": [
    "from function import load_data\n",
    "from nav_research import NavResearch\n",
    "import pandas as pd\n",
    "from pathlib import Path\n",
    "\n",
    "basic_info = load_data(\"产品目录.xlsx\")\n",
    "# strategy_info = basic_info[basic_info[\"大类策略\"] == \"量化CTA\"]\n",
    "\n",
    "\n",
    "def multi_fund_comparison(tables, fund_name):\n",
    "    data1 = tables[0]\n",
    "    data2 = tables[1].head(1)\n",
    "    data3 = pd.DataFrame()\n",
    "    data4 = tables[2]\n",
    "    years = [2019, 2020, 2021, 2022, 2023, 2024, 2025]\n",
    "    for year in years:\n",
    "        data3[f\"{year}收益\"] = data4.loc[\n",
    "            data4[\"分年度业绩\"] == year, f\"{fund_name}_收益\"\n",
    "        ].values\n",
    "        data3[f\"{year}最大回撤\"] = data4.loc[\n",
    "            data4[\"分年度业绩\"] == year, f\"{fund_name}_最大回撤\"\n",
    "        ].values\n",
    "    data = pd.concat([data1, data2, data3], axis=1)\n",
    "    data.drop(columns=[\"基准指数\", \"整体业绩\"], inplace=True)\n",
    "    return data\n",
    "\n",
    "\n",
    "data = pd.DataFrame()\n",
    "files_list_series = pd.Series(\n",
    "    [i for i in Path(\"./data\").rglob(\"*\") if i.suffix.lower() in {\".csv\", \".xlsx\",\".xls\"}]\n",
    ")\n",
    "for row in basic_info.itertuples(index=False, name=None):\n",
    "    nav_df_path = files_list_series[files_list_series.apply(lambda x: row[3] in x.stem)]\n",
    "    assert len(nav_df_path) == 1, \"找到多个文件或者没有稳健\"\n",
    "    demo = NavResearch(nav_df_path.item(), row[0], row[3], row[4], row[5], row[6])\n",
    "    demo.get_data()\n",
    "    tables = demo.get_analysis_table()\n",
    "    nav_df = multi_fund_comparison(tables, row[3])\n",
    "    data = pd.concat([data, nav_df], axis=0)\n",
    "\n",
    "data.to_excel(\"data.xlsx\", index=False)"
   ]
  }
 ],
 "metadata": {
  "kernelspec": {
   "display_name": "Python 3",
   "language": "python",
   "name": "python3"
  },
  "language_info": {
   "codemirror_mode": {
    "name": "ipython",
    "version": 3
   },
   "file_extension": ".py",
   "mimetype": "text/x-python",
   "name": "python",
   "nbconvert_exporter": "python",
   "pygments_lexer": "ipython3",
   "version": "3.12.4"
  }
 },
 "nbformat": 4,
 "nbformat_minor": 2
}
