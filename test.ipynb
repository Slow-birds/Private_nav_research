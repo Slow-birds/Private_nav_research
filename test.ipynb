{
 "cells": [
  {
   "cell_type": "code",
   "execution_count": 2,
   "metadata": {},
   "outputs": [
    {
     "name": "stdout",
     "output_type": "stream",
     "text": [
      "Welcome to use Wind Quant API for Python (WindPy)!\n",
      "\n",
      "COPYRIGHT (C) 2024 WIND INFORMATION CO., LTD. ALL RIGHTS RESERVED.\n",
      "IN NO CIRCUMSTANCE SHALL WIND BE RESPONSIBLE FOR ANY DAMAGES OR LOSSES CAUSED BY USING WIND QUANT API FOR Python.\n"
     ]
    }
   ],
   "source": [
    "import os\n",
    "import pandas as pd\n",
    "from pathlib import Path\n",
    "from function import load_data\n",
    "from nav_research import NavResearch"
   ]
  },
  {
   "cell_type": "code",
   "execution_count": 3,
   "metadata": {},
   "outputs": [],
   "source": [
    "nav_dfs = pd.read_csv(\"nav_dfs.csv\")"
   ]
  },
  {
   "cell_type": "code",
   "execution_count": 4,
   "metadata": {},
   "outputs": [],
   "source": [
    "fund_info = load_data(\"产品代码.xlsx\")\n",
    "fund_info[\"基金代码\"] = fund_info[\"基金代码\"].astype(str)"
   ]
  },
  {
   "cell_type": "code",
   "execution_count": 10,
   "metadata": {},
   "outputs": [],
   "source": [
    "nav_df = nav_dfs[nav_dfs[\"基金代码\"] == 953832]"
   ]
  },
  {
   "cell_type": "code",
   "execution_count": 11,
   "metadata": {},
   "outputs": [
    {
     "data": {
      "text/html": [
       "<div>\n",
       "<style scoped>\n",
       "    .dataframe tbody tr th:only-of-type {\n",
       "        vertical-align: middle;\n",
       "    }\n",
       "\n",
       "    .dataframe tbody tr th {\n",
       "        vertical-align: top;\n",
       "    }\n",
       "\n",
       "    .dataframe thead th {\n",
       "        text-align: right;\n",
       "    }\n",
       "</style>\n",
       "<table border=\"1\" class=\"dataframe\">\n",
       "  <thead>\n",
       "    <tr style=\"text-align: right;\">\n",
       "      <th></th>\n",
       "      <th>基金代码</th>\n",
       "      <th>基金名称</th>\n",
       "      <th>日期</th>\n",
       "      <th>单位净值</th>\n",
       "      <th>累计净值</th>\n",
       "    </tr>\n",
       "  </thead>\n",
       "  <tbody>\n",
       "  </tbody>\n",
       "</table>\n",
       "</div>"
      ],
      "text/plain": [
       "Empty DataFrame\n",
       "Columns: [基金代码, 基金名称, 日期, 单位净值, 累计净值]\n",
       "Index: []"
      ]
     },
     "execution_count": 11,
     "metadata": {},
     "output_type": "execute_result"
    }
   ],
   "source": [
    "nav_df"
   ]
  },
  {
   "cell_type": "code",
   "execution_count": null,
   "metadata": {},
   "outputs": [],
   "source": [
    "nav_df = nav_dfs[nav_dfs[\"基金代码\"] == 9538322]\n",
    "start_date = (fund_info[fund_info[\"基金代码\"] == fundcode][\"成立日期\"].iloc[0].strftime(\"%Y-%m-%d\"))\n",
    "end_date = nav_df[\"日期\"].max().strftime(\"%Y-%m-%d\")\n",
    "fund_name = nav_df[\"基金名称\"].iloc[0]\n",
    "file_path = os.path.join(\"nav_dfs\", f\"{fundcode}_{fund_name}_{start_date}_{end_date}.csv\")\n",
    "filtered_df = nav_df[nav_df[\"日期\"] >= start_date]\n",
    "filtered_df.to_csv(file_path, index=False, encoding=\"utf-8-sig\")"
   ]
  },
  {
   "cell_type": "code",
   "execution_count": 7,
   "metadata": {},
   "outputs": [],
   "source": [
    "import datetime\n",
    "from pathlib import Path"
   ]
  },
  {
   "cell_type": "code",
   "execution_count": 1,
   "metadata": {},
   "outputs": [
    {
     "name": "stdout",
     "output_type": "stream",
     "text": [
      "Welcome to use Wind Quant API for Python (WindPy)!\n",
      "\n",
      "COPYRIGHT (C) 2024 WIND INFORMATION CO., LTD. ALL RIGHTS RESERVED.\n",
      "IN NO CIRCUMSTANCE SHALL WIND BE RESPONSIBLE FOR ANY DAMAGES OR LOSSES CAUSED BY USING WIND QUANT API FOR Python.\n"
     ]
    },
    {
     "data": {
      "text/plain": [
       ".ErrorCode=0\n",
       ".Data=[OK!]"
      ]
     },
     "execution_count": 1,
     "metadata": {},
     "output_type": "execute_result"
    }
   ],
   "source": [
    "import pandas as pd\n",
    "from WindPy import w\n",
    "w.start()"
   ]
  },
  {
   "cell_type": "code",
   "execution_count": 2,
   "metadata": {},
   "outputs": [],
   "source": [
    "def get_index_rtn(month_startdate,week_startdate,end_date):\n",
    "    index_code = [\"881001.WI\",\"000300.SH\", \"000905.SH\", \"000852.SH\",\"8841425.WI\",\"HSTECH.HI\",\"IXIC.GI\"]\n",
    "    index_name = [\"万得全A\",\"中证300\", \"中证500\", \"中证1000\", \"万得小市值指数\",\"恒生科技\",\"纳斯达克\"]\n",
    "    error_code, rtn_year = w.wss(index_code, \"pct_chg_per\",startDate=\"2024-12-30\",endDate=end_date,usedf=True)\n",
    "    rtn_year.rename(columns={\"PCT_CHG_PER\": \"2025收益\"}, inplace=True)\n",
    "    rtn_year.index = index_name\n",
    "    error_code, rtn_month = w.wss(index_code, \"pct_chg_per\",startDate=month_startdate,endDate=end_date,usedf=True)\n",
    "    rtn_month.rename(columns={\"PCT_CHG_PER\": \"3月收益\"}, inplace=True)\n",
    "    rtn_month.index = index_name\n",
    "    error_code, rtn_week = w.wss(index_code, \"pct_chg_per\",startDate=week_startdate,endDate=end_date,usedf=True)\n",
    "    rtn_week.rename(columns={\"PCT_CHG_PER\": \"近一周收益\"}, inplace=True)\n",
    "    rtn_week.index = index_name\n",
    "    rtn = pd.concat([rtn_year, rtn_month, rtn_week], axis=1)\n",
    "    rtn.reset_index(inplace=True)\n",
    "    rtn.rename(columns={\"index\": \"指数名称\"}, inplace=True)\n",
    "    # 保存到 Excel\n",
    "    with pd.ExcelWriter(\n",
    "        \"report_data.xlsx\", engine=\"openpyxl\", mode=\"a\", if_sheet_exists=\"replace\"\n",
    "    ) as writer:\n",
    "        rtn.to_excel(writer, sheet_name=\"Sheet3\", index=False)\n",
    "    return rtn"
   ]
  },
  {
   "cell_type": "code",
   "execution_count": null,
   "metadata": {},
   "outputs": [],
   "source": [
    "def get_index_rtn(end_date: str) -> pd.DataFrame:\n",
    "    '''获取基准指数收益率'''\n",
    "    index_code = [\"881001.WI\", \"000300.SH\", \"000905.SH\", \"000852.SH\", \"8841425.WI\", \"HSTECH.HI\", \"IXIC.GI\"]\n",
    "    index_name = [\"万得全A\", \"沪深300\", \"中证500\", \"中证1000\", \"万得小市值指数\", \"恒生科技\", \"纳斯达克\"]\n",
    "    end_dt = datetime.datetime.strptime(end_date, \"%Y-%m-%d\")\n",
    "    # 自动计算各时间段起始日期\n",
    "    periods = [\n",
    "        {\n",
    "            'type': 'year',\n",
    "            'start_date': f\"{end_dt.year}-01-01\",\n",
    "            'col_name': f\"{end_dt.year}收益\"\n",
    "        },\n",
    "        {\n",
    "            'type': 'month',\n",
    "            'start_date': end_dt.replace(day=1).strftime(\"%Y-%m-%d\"),\n",
    "            'col_name': f\"{end_dt.month}月收益\"\n",
    "        },\n",
    "        {\n",
    "            'type': 'week',\n",
    "            'start_date': (end_dt - datetime.timedelta(days=4)).strftime(\"%Y-%m-%d\"),\n",
    "            'col_name': \"近一周收益\"\n",
    "        }\n",
    "    ]\n",
    "    dfs = []\n",
    "    for period in periods:\n",
    "        error_code, df = w.wss(index_code,\"pct_chg_per\",startDate=period['start_date'],endDate=end_date,usedf=True)\n",
    "        df.rename(columns={'PCT_CHG_PER': period['col_name']}, inplace=True)\n",
    "        df.index = index_name\n",
    "        dfs.append(df)\n",
    "    rtn = pd.concat(dfs, axis=1).reset_index()\n",
    "    rtn.rename(columns={'index': '指数名称'}, inplace=True)\n",
    "    with pd.ExcelWriter(\"report_data.xlsx\", engine=\"openpyxl\", mode=\"a\", if_sheet_exists=\"replace\") as writer:\n",
    "        rtn.to_excel(writer, sheet_name=\"Sheet3\", index=False)\n",
    "    return rtn"
   ]
  },
  {
   "cell_type": "code",
   "execution_count": 12,
   "metadata": {},
   "outputs": [
    {
     "data": {
      "text/html": [
       "<div>\n",
       "<style scoped>\n",
       "    .dataframe tbody tr th:only-of-type {\n",
       "        vertical-align: middle;\n",
       "    }\n",
       "\n",
       "    .dataframe tbody tr th {\n",
       "        vertical-align: top;\n",
       "    }\n",
       "\n",
       "    .dataframe thead th {\n",
       "        text-align: right;\n",
       "    }\n",
       "</style>\n",
       "<table border=\"1\" class=\"dataframe\">\n",
       "  <thead>\n",
       "    <tr style=\"text-align: right;\">\n",
       "      <th></th>\n",
       "      <th>指数名称</th>\n",
       "      <th>2025收益</th>\n",
       "      <th>3月收益</th>\n",
       "      <th>近一周收益</th>\n",
       "    </tr>\n",
       "  </thead>\n",
       "  <tbody>\n",
       "    <tr>\n",
       "      <th>0</th>\n",
       "      <td>万得全A</td>\n",
       "      <td>0.373872</td>\n",
       "      <td>0.448407</td>\n",
       "      <td>-1.294897</td>\n",
       "    </tr>\n",
       "    <tr>\n",
       "      <th>1</th>\n",
       "      <td>沪深300</td>\n",
       "      <td>-1.654458</td>\n",
       "      <td>0.645686</td>\n",
       "      <td>0.012021</td>\n",
       "    </tr>\n",
       "    <tr>\n",
       "      <th>2</th>\n",
       "      <td>中证500</td>\n",
       "      <td>0.285886</td>\n",
       "      <td>0.958393</td>\n",
       "      <td>-0.936026</td>\n",
       "    </tr>\n",
       "    <tr>\n",
       "      <th>3</th>\n",
       "      <td>中证1000</td>\n",
       "      <td>1.567772</td>\n",
       "      <td>-0.033446</td>\n",
       "      <td>-2.143271</td>\n",
       "    </tr>\n",
       "    <tr>\n",
       "      <th>4</th>\n",
       "      <td>万得小市值指数</td>\n",
       "      <td>6.667549</td>\n",
       "      <td>2.247904</td>\n",
       "      <td>-3.112608</td>\n",
       "    </tr>\n",
       "    <tr>\n",
       "      <th>5</th>\n",
       "      <td>恒生科技</td>\n",
       "      <td>21.325566</td>\n",
       "      <td>-1.107551</td>\n",
       "      <td>-2.359936</td>\n",
       "    </tr>\n",
       "    <tr>\n",
       "      <th>6</th>\n",
       "      <td>纳斯达克</td>\n",
       "      <td>-12.164265</td>\n",
       "      <td>-8.087586</td>\n",
       "      <td>-2.592548</td>\n",
       "    </tr>\n",
       "  </tbody>\n",
       "</table>\n",
       "</div>"
      ],
      "text/plain": [
       "      指数名称     2025收益      3月收益     近一周收益\n",
       "0     万得全A   0.373872  0.448407 -1.294897\n",
       "1    沪深300  -1.654458  0.645686  0.012021\n",
       "2    中证500   0.285886  0.958393 -0.936026\n",
       "3   中证1000   1.567772 -0.033446 -2.143271\n",
       "4  万得小市值指数   6.667549  2.247904 -3.112608\n",
       "5     恒生科技  21.325566 -1.107551 -2.359936\n",
       "6     纳斯达克 -12.164265 -8.087586 -2.592548"
      ]
     },
     "execution_count": 12,
     "metadata": {},
     "output_type": "execute_result"
    }
   ],
   "source": [
    "get_index_rtn(\"2025-03-28\")"
   ]
  },
  {
   "cell_type": "markdown",
   "metadata": {},
   "source": [
    "#### 准备工作"
   ]
  },
  {
   "cell_type": "code",
   "execution_count": 2,
   "metadata": {},
   "outputs": [],
   "source": [
    "fund_info = load_data(\"产品代码.xlsx\")\n",
    "fund_info[\"基金代码\"] = fund_info[\"基金代码\"].astype(str)"
   ]
  },
  {
   "cell_type": "code",
   "execution_count": 3,
   "metadata": {},
   "outputs": [
    {
     "data": {
      "text/plain": [
       "array(['灵活配置', '主观成长', '主观价值', '主观逆向', '300指增', '500指增', '1000指增',\n",
       "       '小市值指增', '量化选股', '市场中性', '套利', 'CTA', '多策略', '其他'], dtype=object)"
      ]
     },
     "execution_count": 3,
     "metadata": {},
     "output_type": "execute_result"
    }
   ],
   "source": [
    "fund_info[\"大类策略\"].unique()"
   ]
  },
  {
   "cell_type": "markdown",
   "metadata": {},
   "source": [
    "#### 删除文件"
   ]
  },
  {
   "cell_type": "code",
   "execution_count": 31,
   "metadata": {},
   "outputs": [],
   "source": [
    "def delete_csv_files(directory):\n",
    "    for root, dirs, files in os.walk(directory):\n",
    "        for file in files:\n",
    "            if file.endswith(\".csv\"):\n",
    "                os.remove(os.path.join(root, file))"
   ]
  },
  {
   "cell_type": "markdown",
   "metadata": {},
   "source": [
    "#### 生成nav_dfs"
   ]
  },
  {
   "cell_type": "code",
   "execution_count": 4,
   "metadata": {},
   "outputs": [],
   "source": [
    "def get_nav_dfs(fund_info):\n",
    "    files_list_series = pd.Series(\n",
    "        [\n",
    "            i\n",
    "            for i in Path(\"./nav_data\").rglob(\"*\")\n",
    "            if i.suffix.lower() in {\".csv\", \".xlsx\", \".xls\"}\n",
    "        ]\n",
    "    )\n",
    "    nav_dfs = pd.DataFrame()\n",
    "    for row in fund_info.itertuples(index=False, name=None):\n",
    "        nav_df_path = files_list_series[\n",
    "            files_list_series.apply(lambda x: row[1] in x.stem)\n",
    "        ]\n",
    "        nav_df = load_data(nav_df_path.iloc[0])\n",
    "        nav_df[\"基金代码\"] = row[1]\n",
    "        nav_df[\"基金名称\"] = row[2]\n",
    "        nav_df = nav_df[[\"基金代码\", \"基金名称\", \"日期\", \"单位净值\", \"累计净值\"]]\n",
    "        nav_dfs = pd.concat([nav_dfs, nav_df], ignore_index=True)\n",
    "    nav_dfs.to_csv(\"nav_dfs.csv\", index=False, encoding=\"utf-8-sig\")"
   ]
  },
  {
   "cell_type": "code",
   "execution_count": 5,
   "metadata": {},
   "outputs": [],
   "source": [
    "get_nav_dfs(fund_info)"
   ]
  },
  {
   "cell_type": "markdown",
   "metadata": {},
   "source": [
    "#### 获取新的nav"
   ]
  },
  {
   "cell_type": "code",
   "execution_count": 4,
   "metadata": {},
   "outputs": [],
   "source": [
    "data_path = Path(\"销售产品业绩表现监控表20250324-20250328.xlsx\")"
   ]
  },
  {
   "cell_type": "code",
   "execution_count": null,
   "metadata": {},
   "outputs": [],
   "source": [
    "def get_new_nav(data_path, fund_info):\n",
    "    fundcode_list = fund_info[\"基金代码\"].tolist()\n",
    "    df1 = pd.read_excel(data_path, sheet_name=\"私募产品\")\n",
    "    df2 = pd.read_excel(data_path, sheet_name=\"资管产品（私募）\")\n",
    "    # 处理表df1\n",
    "    df3 = df1[\n",
    "        [\"产品代码\", \"产品名称\", \"最新日期\", \"最新单位净值（元）\", \"累计净值（元）\"]\n",
    "    ]\n",
    "    df3.rename(\n",
    "        columns={\n",
    "            \"产品代码\": \"基金代码\",\n",
    "            \"产品名称\": \"基金名称\",\n",
    "            \"最新日期\": \"日期\",\n",
    "            \"最新单位净值（元）\": \"单位净值\",\n",
    "            \"累计净值（元）\": \"累计净值\",\n",
    "        },\n",
    "        inplace=True,\n",
    "    )\n",
    "    df3[\"日期\"] = pd.to_datetime(df3[\"日期\"], format=\"%Y-%m-%d\").dt.strftime(\"%Y-%m-%d\")\n",
    "    # 处理表df2\n",
    "    df4 = df2[[\"产品代码\", \"产品名称\", \"最新净值日\", \"单位净值\", \"累计净值\"]]\n",
    "    df4.rename(\n",
    "        columns={\"产品代码\": \"基金代码\", \"产品名称\": \"基金名称\", \"最新净值日\": \"日期\"},\n",
    "        inplace=True,\n",
    "    )\n",
    "    df4[\"日期\"] = pd.to_datetime(df4[\"日期\"], format=\"%Y%m%d\").dt.strftime(\"%Y-%m-%d\")\n",
    "    df4[\"基金代码\"] = df4[\"基金代码\"].astype(str)\n",
    "    # 合并处理完后的df3、df4\n",
    "    df5 = pd.concat([df3, df4], ignore_index=True)\n",
    "    nav_df = df5[df5[\"基金代码\"].isin(fundcode_list)].reset_index(drop=True)\n",
    "    # 使用map更新\"基金名称\"列\n",
    "    fund_name_map = fund_info.set_index('基金代码')['基金名称'].to_dict()\n",
    "    nav_df['基金名称'] = nav_df['基金代码'].map(fund_name_map)\n",
    "    return nav_df"
   ]
  },
  {
   "cell_type": "code",
   "execution_count": 7,
   "metadata": {},
   "outputs": [],
   "source": [
    "nav_df = get_new_nav(data_path, fund_info)"
   ]
  },
  {
   "cell_type": "markdown",
   "metadata": {},
   "source": [
    "#### 更新nav_dfs"
   ]
  },
  {
   "cell_type": "code",
   "execution_count": 15,
   "metadata": {},
   "outputs": [],
   "source": [
    "def update_nav_dfs(nav_df):\n",
    "    nav_dfs = pd.read_csv(\"nav_dfs.csv\")\n",
    "    nav_dfs = pd.concat([nav_dfs, nav_df], axis=0, ignore_index=True)\n",
    "    nav_dfs.drop_duplicates(subset=[\"基金代码\", \"日期\"], inplace=True)\n",
    "    nav_dfs.sort_values(by=[\"基金代码\", \"日期\"], inplace=True)\n",
    "    nav_dfs.to_csv(\"nav_dfs.csv\", index=False, encoding=\"utf-8-sig\")\n",
    "    return nav_dfs"
   ]
  },
  {
   "cell_type": "code",
   "execution_count": 16,
   "metadata": {},
   "outputs": [],
   "source": [
    "nav_dfs = update_nav_dfs(nav_df)"
   ]
  },
  {
   "cell_type": "code",
   "execution_count": 17,
   "metadata": {},
   "outputs": [
    {
     "data": {
      "text/html": [
       "<div>\n",
       "<style scoped>\n",
       "    .dataframe tbody tr th:only-of-type {\n",
       "        vertical-align: middle;\n",
       "    }\n",
       "\n",
       "    .dataframe tbody tr th {\n",
       "        vertical-align: top;\n",
       "    }\n",
       "\n",
       "    .dataframe thead th {\n",
       "        text-align: right;\n",
       "    }\n",
       "</style>\n",
       "<table border=\"1\" class=\"dataframe\">\n",
       "  <thead>\n",
       "    <tr style=\"text-align: right;\">\n",
       "      <th></th>\n",
       "      <th>基金代码</th>\n",
       "      <th>基金名称</th>\n",
       "      <th>日期</th>\n",
       "      <th>单位净值</th>\n",
       "      <th>累计净值</th>\n",
       "    </tr>\n",
       "  </thead>\n",
       "  <tbody>\n",
       "    <tr>\n",
       "      <th>20175</th>\n",
       "      <td>953832</td>\n",
       "      <td>君享大类资产全天候2号</td>\n",
       "      <td>2024-01-19</td>\n",
       "      <td>1.000</td>\n",
       "      <td>1.000</td>\n",
       "    </tr>\n",
       "    <tr>\n",
       "      <th>20176</th>\n",
       "      <td>953832</td>\n",
       "      <td>君享大类资产全天候2号</td>\n",
       "      <td>2024-02-23</td>\n",
       "      <td>1.000</td>\n",
       "      <td>1.000</td>\n",
       "    </tr>\n",
       "    <tr>\n",
       "      <th>20177</th>\n",
       "      <td>953832</td>\n",
       "      <td>君享大类资产全天候2号</td>\n",
       "      <td>2024-02-26</td>\n",
       "      <td>1.000</td>\n",
       "      <td>1.000</td>\n",
       "    </tr>\n",
       "    <tr>\n",
       "      <th>20178</th>\n",
       "      <td>953832</td>\n",
       "      <td>君享大类资产全天候2号</td>\n",
       "      <td>2024-02-27</td>\n",
       "      <td>1.000</td>\n",
       "      <td>1.000</td>\n",
       "    </tr>\n",
       "    <tr>\n",
       "      <th>20179</th>\n",
       "      <td>953832</td>\n",
       "      <td>君享大类资产全天候2号</td>\n",
       "      <td>2024-02-28</td>\n",
       "      <td>1.000</td>\n",
       "      <td>1.000</td>\n",
       "    </tr>\n",
       "    <tr>\n",
       "      <th>...</th>\n",
       "      <td>...</td>\n",
       "      <td>...</td>\n",
       "      <td>...</td>\n",
       "      <td>...</td>\n",
       "      <td>...</td>\n",
       "    </tr>\n",
       "    <tr>\n",
       "      <th>15671</th>\n",
       "      <td>ZZ676C</td>\n",
       "      <td>宽德量化精选2号C</td>\n",
       "      <td>2025-03-10</td>\n",
       "      <td>1.090</td>\n",
       "      <td>1.395</td>\n",
       "    </tr>\n",
       "    <tr>\n",
       "      <th>15672</th>\n",
       "      <td>ZZ676C</td>\n",
       "      <td>宽德量化精选2号C</td>\n",
       "      <td>2025-03-14</td>\n",
       "      <td>1.113</td>\n",
       "      <td>1.418</td>\n",
       "    </tr>\n",
       "    <tr>\n",
       "      <th>15673</th>\n",
       "      <td>ZZ676C</td>\n",
       "      <td>宽德量化精选2号C</td>\n",
       "      <td>2025-03-17</td>\n",
       "      <td>1.119</td>\n",
       "      <td>1.424</td>\n",
       "    </tr>\n",
       "    <tr>\n",
       "      <th>15674</th>\n",
       "      <td>ZZ676C</td>\n",
       "      <td>宽德量化精选2号C</td>\n",
       "      <td>2025-03-18</td>\n",
       "      <td>1.123</td>\n",
       "      <td>1.428</td>\n",
       "    </tr>\n",
       "    <tr>\n",
       "      <th>21310</th>\n",
       "      <td>ZZ676C</td>\n",
       "      <td>宽德量化精选2号C</td>\n",
       "      <td>2025-03-24</td>\n",
       "      <td>1.104</td>\n",
       "      <td>1.409</td>\n",
       "    </tr>\n",
       "  </tbody>\n",
       "</table>\n",
       "<p>21358 rows × 5 columns</p>\n",
       "</div>"
      ],
      "text/plain": [
       "         基金代码         基金名称          日期   单位净值   累计净值\n",
       "20175  953832  君享大类资产全天候2号  2024-01-19  1.000  1.000\n",
       "20176  953832  君享大类资产全天候2号  2024-02-23  1.000  1.000\n",
       "20177  953832  君享大类资产全天候2号  2024-02-26  1.000  1.000\n",
       "20178  953832  君享大类资产全天候2号  2024-02-27  1.000  1.000\n",
       "20179  953832  君享大类资产全天候2号  2024-02-28  1.000  1.000\n",
       "...       ...          ...         ...    ...    ...\n",
       "15671  ZZ676C    宽德量化精选2号C  2025-03-10  1.090  1.395\n",
       "15672  ZZ676C    宽德量化精选2号C  2025-03-14  1.113  1.418\n",
       "15673  ZZ676C    宽德量化精选2号C  2025-03-17  1.119  1.424\n",
       "15674  ZZ676C    宽德量化精选2号C  2025-03-18  1.123  1.428\n",
       "21310  ZZ676C    宽德量化精选2号C  2025-03-24  1.104  1.409\n",
       "\n",
       "[21358 rows x 5 columns]"
      ]
     },
     "execution_count": 17,
     "metadata": {},
     "output_type": "execute_result"
    }
   ],
   "source": [
    "nav_dfs"
   ]
  },
  {
   "cell_type": "markdown",
   "metadata": {},
   "source": [
    "#### 生成单一净值"
   ]
  },
  {
   "cell_type": "code",
   "execution_count": 28,
   "metadata": {},
   "outputs": [],
   "source": [
    "def update_nav_df(nav_dfs,fund_info):\n",
    "    fundcode_list = fund_info[\"基金代码\"].unique().tolist()\n",
    "    # 确保输出目录存在\n",
    "    os.makedirs(\"nav_data\", exist_ok=True)\n",
    "    \n",
    "    # 检查日期列的类型，如果不是 datetime 类型，则转换为 datetime 类型\n",
    "    if nav_dfs['日期'].dtype != 'datetime64[ns]':\n",
    "        nav_dfs['日期'] = pd.to_datetime(nav_dfs['日期'], format='%Y-%m-%d')\n",
    "\n",
    "    # 遍历 nav_dfs 中 \"基金代码\" 列的唯一值\n",
    "    for fundcode in fundcode_list:\n",
    "        nav_df = nav_dfs[nav_dfs[\"基金代码\"] == fundcode]\n",
    "        start_date = fund_info[fund_info[\"基金代码\"] == fundcode][\"成立日期\"].iloc[0].strftime('%Y-%m-%d')\n",
    "        filtered_df = nav_df[nav_df['日期'] >= start_date]\n",
    "        end_date = nav_df[\"日期\"].max().strftime('%Y-%m-%d')\n",
    "        fund_name = nav_df[\"基金名称\"].iloc[0]\n",
    "        file_path = os.path.join(\"nav_dfs\", f\"{fundcode}_{fund_name}_{start_date}_{end_date}.csv\")\n",
    "        filtered_df.to_csv(file_path, index=False, encoding=\"utf-8-sig\")"
   ]
  },
  {
   "cell_type": "code",
   "execution_count": 32,
   "metadata": {},
   "outputs": [],
   "source": [
    "delete_csv_files(\"nav_dfs\")"
   ]
  },
  {
   "cell_type": "code",
   "execution_count": 33,
   "metadata": {},
   "outputs": [],
   "source": [
    "update_nav_df(nav_dfs,fund_info)"
   ]
  },
  {
   "cell_type": "markdown",
   "metadata": {},
   "source": [
    "#### 数据可视化"
   ]
  },
  {
   "cell_type": "code",
   "execution_count": 37,
   "metadata": {},
   "outputs": [
    {
     "name": "stdout",
     "output_type": "stream",
     "text": [
      "玄元元丰2号A无法推断频率,自动转为周度\n",
      "聚鸣匠传11号无法推断频率,自动转为周度\n",
      "聚鸣章玉价值成长3号A无法推断频率,自动转为周度\n",
      "健顺云6号C无法推断频率,自动转为周度\n",
      "翊安投资可转债2号无法推断频率,自动转为周度\n",
      "弘尚资产弘利2号1期无法推断频率,自动转为周度\n",
      "勤辰创赢成长6号1期无法推断频率,自动转为周度\n",
      "勤辰金选森裕弘享1号无法推断频率,自动转为周度\n",
      "格雷长期价值16号B无法推断频率,自动转为周度\n",
      "彤源同裕1期1号无法推断频率,自动转为周度\n",
      "石锋资产笃行7号A期无法推断频率,自动转为周度\n",
      "景林精选FOF子基金GJ2期无法推断频率,自动转为周度\n",
      "景林景泰丰收GJ2期无法推断频率,自动转为周度\n",
      "景林景泰优选GJ2期无法推断频率,自动转为周度\n",
      "沣京公司精选2期无法推断频率,自动转为周度\n",
      "睿郡财富11号1期无法推断频率,自动转为周度\n",
      "高毅任昊致福25期A无法推断频率,自动转为周度\n",
      "旭鑫价值成长7期无法推断频率,自动转为周度\n",
      "易同精选2号无法推断频率,自动转为周度\n",
      "宽远安泰成长1号无法推断频率,自动转为周度\n",
      "合撰价值精选贰号无法推断频率,自动转为周度\n",
      "明达精选V号1期无法推断频率,自动转为周度\n",
      "东方港湾汉韵一期无法推断频率,自动转为周度\n",
      "静瑞灵动增长安泰1号无法推断频率,自动转为周度\n",
      "兴聚投资可换股债券1号无法推断频率,自动转为周度\n",
      "高毅臻选FOF21期A无法推断频率,自动转为周度\n",
      "衍复新擎300增强一号B无法推断频率,自动转为周度\n",
      "明汯乐享300指数增强1号A无法推断频率,自动转为周度\n",
      "衍复新擎A号无法推断频率,自动转为周度\n",
      "灵均君迎指数增强6号无法推断频率,自动转为周度\n",
      "赫富乐想500指数增强1号无法推断频率,自动转为周度\n",
      "宽德中证500指数增强22号一期无法推断频率,自动转为周度\n",
      "衍复新擎1000增强一号A期无法推断频率,自动转为周度\n",
      "宽德中证1000指数增强7号B无法推断频率,自动转为周度\n",
      "幻方量化1000指数专享14号2期A无法推断频率,自动转为周度\n",
      "乾象中证1000指数增强35号1期无法推断频率,自动转为周度\n",
      "玄信星选1000指数增强1号1期无法推断频率,自动转为周度\n",
      "衍复新擎小市值增强一号A期无法推断频率,自动转为周度\n",
      "宽德小洞天3号B无法推断频率,自动转为周度\n",
      "天演国睿量化精选6期无法推断频率,自动转为周度\n",
      "宽德量化精选2号C无法推断频率,自动转为周度\n",
      "致远精选六号A无法推断频率,自动转为周度\n",
      "九坤股票量化优选42号无法推断频率,自动转为周度\n",
      "明汯乐享股票精选2号无法推断频率,自动转为周度\n",
      "茂源量化选股15号1期无法推断频率,自动转为周度\n",
      "纽达投资可转债十一号1期无法推断频率,自动转为周度\n",
      "衍复新擎对冲一号A期无法推断频率,自动转为周度\n",
      "衍复春晓一期无法推断频率,自动转为周度\n",
      "玄信麒麟市场中性一号一期无法推断频率,自动转为周度\n",
      "涵德和光淳德量化对冲1号1期无法推断频率,自动转为周度\n",
      "盛泉恒元量化均衡专项87号B无法推断频率,自动转为周度\n",
      "悬铃瑞享C号1期无法推断频率,自动转为周度\n",
      "博普安兴私享一号无法推断频率,自动转为周度\n",
      "黑翼CTA28号B无法推断频率,自动转为周度\n",
      "会世元丰29号1期无法推断频率,自动转为周度\n",
      "均成均享1号1期无法推断频率,自动转为周度\n",
      "道合青云8号一期无法推断频率,自动转为周度\n",
      "博普凤祥13号无法推断频率,自动转为周度\n",
      "玖鹏宏远3号无法推断频率,自动转为周度\n"
     ]
    }
   ],
   "source": [
    "def multi_fund_comparison(tables, fund_name):\n",
    "    data1 = tables[0]\n",
    "    data2 = tables[1].head(1)\n",
    "    data3 = pd.DataFrame()\n",
    "    data4 = tables[2]\n",
    "    years = [2019, 2020, 2021, 2022, 2023, 2024, 2025]\n",
    "    for year in years:\n",
    "        data3[f\"{year}收益\"] = data4.loc[\n",
    "            data4[\"分年度业绩\"] == year, f\"{fund_name}_收益\"\n",
    "        ].values\n",
    "    data = pd.concat([data1, data2, data3], axis=1)\n",
    "    data.drop(columns=[\"基准指数\", \"整体业绩\"], inplace=True)\n",
    "    return data\n",
    "\n",
    "def get_report_data(fund_info):\n",
    "    data = pd.DataFrame()\n",
    "    files_list_series = pd.Series(\n",
    "        [i for i in Path(\"./nav_dfs\").rglob(\"*\") if i.suffix.lower() in {\".csv\", \".xlsx\",\".xls\"}]\n",
    "    )\n",
    "    for row in fund_info.itertuples(index=False, name=None):\n",
    "        nav_df_path = files_list_series[files_list_series.apply(lambda x: row[1] in x.stem)]\n",
    "        assert len(nav_df_path) == 1, \"找到多个文件或者没有文件\"\n",
    "        demo = NavResearch(nav_df_path.item(), row[0], row[2], row[3], row[4], row[5])\n",
    "        demo.get_data()\n",
    "        tables = demo.get_analysis_table()\n",
    "        nav_df = multi_fund_comparison(tables, row[2])\n",
    "        nav_df[\"策略类型\"] = row[0]\n",
    "        cols = ['策略类型'] + [col for col in nav_df.columns if col != '策略类型']\n",
    "        nav_df = nav_df[cols]\n",
    "        data = pd.concat([data, nav_df], axis=0)\n",
    "    data.to_excel(\"report_data.xlsx\", index=False)"
   ]
  },
  {
   "cell_type": "code",
   "execution_count": null,
   "metadata": {},
   "outputs": [],
   "source": [
    "def get_report_data(fund_info):\n",
    "    data = pd.DataFrame()\n",
    "    files_list_series = pd.Series(\n",
    "        [\n",
    "            i\n",
    "            for i in Path(\"./nav_dfs\").rglob(\"*\")\n",
    "            if i.suffix.lower() in {\".csv\", \".xlsx\", \".xls\"}\n",
    "        ]\n",
    "    )\n",
    "    for row in fund_info.itertuples(index=False, name=None):\n",
    "        # 找到对应的文件路径，确保唯一\n",
    "        nav_df_path_mask = files_list_series.apply(lambda x: row[1] in x.stem)\n",
    "        nav_df_paths = files_list_series[nav_df_path_mask]\n",
    "        if len(nav_df_paths) != 1:\n",
    "            raise ValueError(f\"找到 {len(nav_df_paths)} 个文件匹配 {row[1]}，期望找到 1 个\")\n",
    "        nav_df_path = nav_df_paths.iloc[0]\n",
    "        # 假设 NavResearch 是一个类，初始化并获取数据\n",
    "        demo = NavResearch(nav_df_path, row[0], row[2], row[3], row[4], row[5])\n",
    "        df_nav, df_return, df_drawdown = demo.get_data()\n",
    "        tables = demo.get_analysis_table()\n",
    "        nav_df = single_fund_table(tables, row[2])\n",
    "        # 添加策略类型\n",
    "        nav_df[\"策略类型\"] = row[0]\n",
    "        # 增加近一周收益列\n",
    "        if len(df_nav[\"nav_adjusted\"]) >= 2:\n",
    "            nav_df[\"近一周收益\"] = f\"{(df_nav['nav_adjusted'].iloc[-1] / df_nav['nav_adjusted'].iloc[-2] - 1):.2%}\"\n",
    "        else:\n",
    "            nav_df[\"近一周收益\"] = np.nan\n",
    "        # 特定基金产品设置为 NaN\n",
    "        specific_list = [\"景林景泰优选GJ2期\", \"景林精选FOF子基金GJ2期\", \"景林景泰丰收GJ2期\", \"千宜乐享精选CTA2号\"]\n",
    "        nav_df.loc[nav_df[\"基金产品\"].isin(specific_list), \"近一周收益\"] = np.nan\n",
    "        # 自定义排序列顺序\n",
    "        cols = [\"策略类型\"] + [col for col in nav_df.columns if col != \"策略类型\"]\n",
    "        nav_df = nav_df[cols]\n",
    "        # 合并数据，使用 ignore_index=True 避免索引重复问题\n",
    "        data = pd.concat([data, nav_df], axis=0, ignore_index=True)\n",
    "    # 处理 2025收益 列为数值类型\n",
    "    data[\"2025收益数值\"] = data[\"2025收益\"].str.rstrip('%').astype(float) / 100\n",
    "    # 指定策略类型的自定义顺序\n",
    "    custom_order = [\n",
    "        \"灵活配置\", \"主观成长\", \"主观价值\", \"主观逆向\", \"300指增\", \"500指增\", \"1000指增\", \"小市值指增\", \n",
    "        \"量化选股\", \"市场中性\", \"套利\", \"CTA\", \"多策略\", \"其他\"\n",
    "    ]\n",
    "    data[\"策略类型\"] = pd.Categorical(data[\"策略类型\"], categories=custom_order, ordered=True)\n",
    "    # 排序并删除临时列\n",
    "    data.sort_values(by=[\"策略类型\", \"2025收益数值\"], ascending=[True, False], inplace=True)\n",
    "    data.drop(columns=[\"2025收益数值\"], inplace=True)\n",
    "    # 重命名列\n",
    "    data.rename(columns={\"净值起始日期\": \"成立日期\", \"净值结束日期\": \"最新净值日期\"}, inplace=True)\n",
    "    # 保存到 Excel\n",
    "    data.to_excel(\"report_data.xlsx\", index=False)"
   ]
  },
  {
   "cell_type": "code",
   "execution_count": null,
   "metadata": {},
   "outputs": [],
   "source": [
    "# 生成可视化表格report_data.xlsx\n",
    "def get_report_data(fund_info):\n",
    "    data = pd.DataFrame()\n",
    "    files_list_series = pd.Series(\n",
    "        [\n",
    "            i\n",
    "            for i in Path(\"./nav_dfs\").rglob(\"*\")\n",
    "            if i.suffix.lower() in {\".csv\", \".xlsx\", \".xls\"}\n",
    "        ]\n",
    "    )\n",
    "    for row in fund_info.itertuples(index=False, name=None):\n",
    "        nav_df_path = files_list_series[\n",
    "            files_list_series.apply(lambda x: row[1] in x.stem)\n",
    "        ]\n",
    "        assert len(nav_df_path) == 1, \"找到多个文件或者没有文件\"\n",
    "        demo = NavResearch(nav_df_path.item(), row[0], row[2], row[3], row[4], row[5])\n",
    "        df_nav, df_return, df_drawdown = demo.get_data()\n",
    "        tables = demo.get_analysis_table()\n",
    "        nav_df = single_fund_table(tables, row[2])\n",
    "        nav_df[\"策略类型\"] = row[0]\n",
    "        # 增加近一周收益列\n",
    "        nav_df[\"近一周收益\"] = f\"{(df_nav[\"nav_adjusted\"].iloc[-1] / df_nav[\"nav_adjusted\"].iloc[-2] - 1):.2%}\"\n",
    "        list = [\"景林景泰优选GJ2期\",\"景林精选FOF子基金GJ2期\",\"景林景泰丰收GJ2期\",\"千宜乐享精选CTA2号\"]\n",
    "        nav_df.loc[nav_df[\"基金产品\"].isin(list), \"近一周收益\"] = np.nan\n",
    "        # 自定义排序列顺序\n",
    "        cols = [\"策略类型\"] + [col for col in nav_df.columns if col != \"策略类型\"]\n",
    "        nav_df = nav_df[cols]\n",
    "        data = pd.concat([data, nav_df], axis=0)\n",
    "        data[\"2025收益数值\"] = data[\"2025收益\"].str.rstrip('%').astype(float) / 100\n",
    "        # 指定策略类型的自定义顺序\n",
    "        custom_order = [\n",
    "            \"灵活配置\",\"主观成长\",\"主观价值\",\"主观逆向\",\"300指增\",\"500指增\",\"1000指增\",\"小市值指增\",\"量化选股\",\"市场中性\", \"套利\", \"CTA\", \"多策略\", \"其他\"\n",
    "        ]\n",
    "        data[\"策略类型\"] = pd.Categorical(data[\"策略类型\"], categories=custom_order, ordered=True)\n",
    "        data.sort_values(by=[\"策略类型\", \"2025收益数值\"], ascending=[True, False], inplace=True)\n",
    "        data.drop(columns=[\"2025收益数值\"], inplace=True)\n",
    "        data.rename(columns={\"净值起始日期\": \"成立日期\",\"净值结束日期\": \"最新净值日期\"}, inplace=True)\n",
    "    data.to_excel(\"report_data.xlsx\", index=False)"
   ]
  },
  {
   "cell_type": "code",
   "execution_count": null,
   "metadata": {},
   "outputs": [],
   "source": []
  }
 ],
 "metadata": {
  "kernelspec": {
   "display_name": "Python 3",
   "language": "python",
   "name": "python3"
  },
  "language_info": {
   "codemirror_mode": {
    "name": "ipython",
    "version": 3
   },
   "file_extension": ".py",
   "mimetype": "text/x-python",
   "name": "python",
   "nbconvert_exporter": "python",
   "pygments_lexer": "ipython3",
   "version": "3.12.4"
  }
 },
 "nbformat": 4,
 "nbformat_minor": 2
}
