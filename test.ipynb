{
 "cells": [
  {
   "cell_type": "code",
   "execution_count": 1,
   "metadata": {},
   "outputs": [
    {
     "name": "stdout",
     "output_type": "stream",
     "text": [
      "Welcome to use Wind Quant API for Python (WindPy)!\n",
      "\n",
      "COPYRIGHT (C) 2024 WIND INFORMATION CO., LTD. ALL RIGHTS RESERVED.\n",
      "IN NO CIRCUMSTANCE SHALL WIND BE RESPONSIBLE FOR ANY DAMAGES OR LOSSES CAUSED BY USING WIND QUANT API FOR Python.\n"
     ]
    }
   ],
   "source": [
    "import os\n",
    "import pandas as pd\n",
    "from pathlib import Path\n",
    "from function import load_data\n",
    "from nav_research import NavResearch"
   ]
  },
  {
   "cell_type": "code",
   "execution_count": 2,
   "metadata": {},
   "outputs": [],
   "source": [
    "fund_info = load_data(\"产品代码.xlsx\")\n",
    "fund_info[\"基金代码\"] = fund_info[\"基金代码\"].astype(str)"
   ]
  },
  {
   "cell_type": "code",
   "execution_count": null,
   "metadata": {},
   "outputs": [],
   "source": [
    "files_list_series = pd.Series([i for i in Path(\"./nav_data\").rglob(\"*\") if i.suffix.lower() in {\".csv\", \".xlsx\",\".xls\"}])\n",
    "nav_dfs = pd.DataFrame()\n",
    "for row in fund_info.itertuples(index=False, name=None):\n",
    "    nav_df_path = files_list_series[files_list_series.apply(lambda x: row[1] in x.stem)]\n",
    "    nav_df = load_data(nav_df_path.iloc[0])\n",
    "    nav_df[\"基金代码\"] = row[1]\n",
    "    nav_df[\"基金名称\"] = row[2]\n",
    "    nav_df = nav_df[[\"基金代码\",\"基金名称\",\"日期\",\"单位净值\",\"累计净值\"]]\n",
    "    nav_dfs = pd.concat([nav_dfs, nav_df], ignore_index=True)\n",
    "nav_dfs.to_csv(\"nav_dfs.csv\",index=False, encoding=\"utf-8-sig\")"
   ]
  },
  {
   "cell_type": "code",
   "execution_count": 3,
   "metadata": {},
   "outputs": [],
   "source": [
    "def delete_csv_files(directory):\n",
    "    # 遍历目录及其子目录\n",
    "    for root, dirs, files in os.walk(directory):\n",
    "        for file in files:\n",
    "            # 检查文件是否以.csv 结尾\n",
    "            if file.endswith(\".csv\"):\n",
    "                file_path = os.path.join(root, file)\n",
    "                try:\n",
    "                    # 删除文件\n",
    "                    os.remove(file_path)\n",
    "                    # print(f\"Deleted: {file_path}\")\n",
    "                except Exception as e:\n",
    "                    print(f\"Error deleting {file_path}: {e}\")\n",
    "delete_csv_files(\"nav_data\")"
   ]
  },
  {
   "cell_type": "code",
   "execution_count": 4,
   "metadata": {},
   "outputs": [],
   "source": [
    "nav_dfs = pd.read_csv(\"nav_dfs.csv\")"
   ]
  },
  {
   "cell_type": "code",
   "execution_count": 5,
   "metadata": {},
   "outputs": [],
   "source": [
    "# 确保输出目录存在\n",
    "os.makedirs(\"nav_data\", exist_ok=True)\n",
    "\n",
    "# 检查日期列的类型，如果不是 datetime 类型，则转换为 datetime 类型\n",
    "if nav_dfs['日期'].dtype != 'datetime64[ns]':\n",
    "    nav_dfs['日期'] = pd.to_datetime(nav_dfs['日期'], format='%Y-%m-%d')\n",
    "\n",
    "# 遍历 nav_dfs 中 \"基金代码\" 列的唯一值\n",
    "for fund_code in nav_dfs[\"基金代码\"].unique():\n",
    "    nav_df = nav_dfs[nav_dfs[\"基金代码\"] == fund_code]\n",
    "    start_date = fund_info[fund_info[\"基金代码\"] == \"SGV993\"][\"成立日期\"][0].strftime('%Y-%m-%d')\n",
    "    filtered_df = nav_df[nav_df['日期'] >= start_date]\n",
    "    end_date = nav_df[\"日期\"].max().strftime('%Y-%m-%d')\n",
    "    fund_name = nav_df[\"基金名称\"].iloc[0]\n",
    "    file_path = os.path.join(\"nav_data\", f\"{fund_code}_{fund_name}_{start_date}_{end_date}.csv\")\n",
    "    filtered_df.to_csv(file_path, index=False, encoding=\"utf-8-sig\")"
   ]
  },
  {
   "cell_type": "code",
   "execution_count": 7,
   "metadata": {},
   "outputs": [
    {
     "name": "stdout",
     "output_type": "stream",
     "text": [
      "玄元元丰2号A无法推断频率,自动转为周度\n",
      "循远安心十三号A无法推断频率,自动转为周度\n",
      "聚鸣匠传11号无法推断频率,自动转为周度\n",
      "聚鸣章玉价值成长3号A无法推断频率,自动转为周度\n",
      "健顺云6号C无法推断频率,自动转为周度\n",
      "翊安投资可转债2号无法推断频率,自动转为周度\n",
      "弘尚资产弘利2号1期无法推断频率,自动转为周度\n",
      "勤辰创赢成长6号1期无法推断频率,自动转为周度\n",
      "勤辰金选森裕弘享1号无法推断频率,自动转为周度\n",
      "格雷长期价值16号B无法推断频率,自动转为周度\n",
      "彤源同裕1期1号无法推断频率,自动转为周度\n",
      "石锋资产笃行7号A期无法推断频率,自动转为周度\n",
      "景林精选FOF子基金GJ2期无法推断频率,自动转为周度\n",
      "景林景泰丰收GJ2期无法推断频率,自动转为周度\n",
      "景林景泰优选GJ2期无法推断频率,自动转为周度\n",
      "睿郡财富11号1期无法推断频率,自动转为周度\n",
      "高毅任昊致福25期A无法推断频率,自动转为周度\n",
      "宽远安泰成长1号无法推断频率,自动转为周度\n",
      "明达精选V号1期无法推断频率,自动转为周度\n",
      "东方港湾汉韵一期无法推断频率,自动转为周度\n",
      "静瑞灵动增长安泰1号无法推断频率,自动转为周度\n",
      "兴聚投资可换股债券1号无法推断频率,自动转为周度\n",
      "高毅臻选FOF21期A无法推断频率,自动转为周度\n",
      "衍复新擎300增强一号B无法推断频率,自动转为周度\n",
      "宽德沪深300指数增强8号一期无法推断频率,自动转为周度\n",
      "明汯乐享300指数增强1号A无法推断频率,自动转为周度\n",
      "衍复新擎A号无法推断频率,自动转为周度\n",
      "卓识中证500指数增强十一号A无法推断频率,自动转为周度\n",
      "灵均君迎指数增强6号无法推断频率,自动转为周度\n",
      "赫富乐想500指数增强1号无法推断频率,自动转为周度\n",
      "宽德中证500指数增强22号一期无法推断频率,自动转为周度\n",
      "衍复新擎1000增强一号A期无法推断频率,自动转为周度\n",
      "宽德中证1000指数增强7号B无法推断频率,自动转为周度\n",
      "幻方量化1000指数专享14号2期A无法推断频率,自动转为周度\n",
      "乾象中证1000指数增强35号1期无法推断频率,自动转为周度\n",
      "衍复新擎小市值增强一号A期无法推断频率,自动转为周度\n",
      "宽德小洞天3号B无法推断频率,自动转为周度\n",
      "天演国睿量化精选6期无法推断频率,自动转为周度\n",
      "黑翼量化成长9号1期无法推断频率,自动转为周度\n",
      "宽德量化精选2号C无法推断频率,自动转为周度\n",
      "致远精选六号A无法推断频率,自动转为周度\n",
      "九坤股票量化优选42号无法推断频率,自动转为周度\n",
      "明汯乐享股票精选2号无法推断频率,自动转为周度\n",
      "茂源量化选股15号1期无法推断频率,自动转为周度\n",
      "纽达投资可转债十一号1期无法推断频率,自动转为周度\n",
      "衍复新擎对冲一号A期无法推断频率,自动转为周度\n",
      "衍复春晓一期无法推断频率,自动转为周度\n",
      "上海宽德量化中性1号二期无法推断频率,自动转为周度\n",
      "玄信麒麟市场中性一号一期无法推断频率,自动转为周度\n",
      "涵德和光淳德量化对冲1号1期无法推断频率,自动转为周度\n",
      "黑翼中性策略18号1期无法推断频率,自动转为周度\n",
      "盛泉恒元量化均衡专项87号B无法推断频率,自动转为周度\n",
      "悬铃瑞享C号1期无法推断频率,自动转为周度\n",
      "博普安兴私享一号无法推断频率,自动转为周度\n",
      "黑翼CTA28号B无法推断频率,自动转为周度\n",
      "会世元丰29号1期无法推断频率,自动转为周度\n",
      "均成均享1号1期无法推断频率,自动转为周度\n",
      "道合青云8号一期无法推断频率,自动转为周度\n",
      "博普凤祥13号无法推断频率,自动转为周度\n",
      "玖鹏宏远3号无法推断频率,自动转为周度\n"
     ]
    }
   ],
   "source": [
    "def multi_fund_comparison(tables, fund_name):\n",
    "    data1 = tables[0]\n",
    "    data2 = tables[1].head(1)\n",
    "    data3 = pd.DataFrame()\n",
    "    data4 = tables[2]\n",
    "    years = [2019, 2020, 2021, 2022, 2023, 2024, 2025]\n",
    "    for year in years:\n",
    "        data3[f\"{year}收益\"] = data4.loc[\n",
    "            data4[\"分年度业绩\"] == year, f\"{fund_name}_收益\"\n",
    "        ].values\n",
    "    data = pd.concat([data1, data2, data3], axis=1)\n",
    "    data.drop(columns=[\"基准指数\", \"整体业绩\"], inplace=True)\n",
    "    return data\n",
    "\n",
    "\n",
    "data = pd.DataFrame()\n",
    "files_list_series = pd.Series(\n",
    "    [i for i in Path(\"./nav_data\").rglob(\"*\") if i.suffix.lower() in {\".csv\", \".xlsx\",\".xls\"}]\n",
    ")\n",
    "for row in fund_info.itertuples(index=False, name=None):\n",
    "    nav_df_path = files_list_series[files_list_series.apply(lambda x: row[1] in x.stem)]\n",
    "    assert len(nav_df_path) == 1, \"找到多个文件或者没有文件\"\n",
    "    demo = NavResearch(nav_df_path.item(), row[0], row[2], row[3], row[4], row[5])\n",
    "    demo.get_data()\n",
    "    tables = demo.get_analysis_table()\n",
    "    nav_df = multi_fund_comparison(tables, row[2])\n",
    "    nav_df[\"策略类型\"] = row[0]\n",
    "    cols = ['策略类型'] + [col for col in nav_df.columns if col != '策略类型']\n",
    "    nav_df = nav_df[cols]\n",
    "    data = pd.concat([data, nav_df], axis=0)\n",
    "data.to_excel(\"report_data.xlsx\", index=False)"
   ]
  },
  {
   "cell_type": "code",
   "execution_count": null,
   "metadata": {},
   "outputs": [],
   "source": []
  }
 ],
 "metadata": {
  "kernelspec": {
   "display_name": "Python 3",
   "language": "python",
   "name": "python3"
  },
  "language_info": {
   "codemirror_mode": {
    "name": "ipython",
    "version": 3
   },
   "file_extension": ".py",
   "mimetype": "text/x-python",
   "name": "python",
   "nbconvert_exporter": "python",
   "pygments_lexer": "ipython3",
   "version": "3.12.4"
  }
 },
 "nbformat": 4,
 "nbformat_minor": 2
}
