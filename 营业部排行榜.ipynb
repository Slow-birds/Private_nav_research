{
 "cells": [
  {
   "cell_type": "code",
   "execution_count": 1,
   "metadata": {},
   "outputs": [],
   "source": [
    "import requests\n",
    "import pandas as pd"
   ]
  },
  {
   "cell_type": "code",
   "execution_count": 2,
   "metadata": {},
   "outputs": [],
   "source": [
    "headers = {\n",
    "    'Accept': '*/*',\n",
    "    'Accept-Language': 'zh-CN,zh;q=0.9',\n",
    "    'Cache-Control': 'max-age=0',\n",
    "    'Connection': 'keep-alive',\n",
    "    'Content-Type': 'application/x-www-form-urlencoded',\n",
    "    'Cookie': 'JSESSIONID=93261A66E7100B7A1A15F9D172D3418C; client=2; themec=77008; JSESSIONID=27B073925D9732F5405A6FDA7DB94241; linkgtja=Dkd2%2FjxvtUIFG4%2BkT0HU6m8NP4sqFzpM4pTwCdXl464KjBgYHWj%2F6%2BPlaqKZreEHA1L4dcMCmAPPkOpLhpj3i6NypqLO4grhhCDeQfxrD0eLDyaZoqvLiR8UiLdImggRulMICPbzTS5GiMOTabopDtcbYaeaBUjLSDoF%2B8EpHjRuYmjl446OD2aonbtgjfLGxZDIfBzC6P9zDQruJMjN1mjxeBcmlS9cneRIBEY%2BiHJNHnUuVxIEsiG0eYNn0BY045kRJtYQ23kRqTArYPcDZ6pT07ZasdYD1E1fGG%2FwB7pyLQipxnz5bEbTf6scBec%2FDhVmKgAh94wFpYQYr71ySg%3D%3D; link.sessionid=25062554a44e2129e24050969ebd659e36a218026146; all.sessionid=25062554a44e2129e24050969ebd659e36a218026146; LtpaToken=4bkxnyhMUNRR37TGVRMlBZ3aRywVFtn4GxV/mOTu0yohlndb9Pw9yVgP3pY2xrlBOkqIZMx0sPIzBXPsG6JaOpoqBFZQDBUS+QmzX5U0ztb6qyM6YycWOZxI++hBms8ynpt7TLakWzoeeH6moK6uoEFq2bjPfPeWBvMp0eipXJPAM0nAiX6yctpsvmwv6f1NA96Pxws1pZi8hga7RGSaRXEwoZQTL2aXqhC1YS517IVw3ENm03T+11ViOT2nUSqBeU38S8OfQA9aV+Quyz0GuABushSK0LbZOxtoI5GIWUTRQx9xkKxKjJ609ZnYBlKh0p10KTJZ7wsPVvIVMEY3PvdzC+mSWv0Nz48vCxgdGUlkeol58QBEvzZN6jbJGd+/lV0ejP3lQQN4Hma+jIhrk9BccZBptcYcYSA6RX8v6TrBOI4C/zLNLKCVnJ3xN4MPB6ijDG1BDZzBJ61FTsnGeQ==; oem.userid=120493; domain=https://www.gtht.com.cn; oem.sessionid=25062554a44e2129e24050969ebd659e36a218026146; sajssdk_2015_cross_new_user=1; sensorsdata2015jssdkcross=%7B%22distinct_id%22%3A%22026146%22%2C%22first_id%22%3A%22197a64a875f45a-0ec1242b8b69b38-29726c34-2073600-197a64a8760813%22%2C%22props%22%3A%7B%7D%2C%22identities%22%3A%22eyIkaWRlbnRpdHlfY29va2llX2lkIjoiMTk3YTY0YTg3NWY0NWEtMGVjMTI0MmI4YjY5YjM4LTI5NzI2YzM0LTIwNzM2MDAtMTk3YTY0YTg3NjA4MTMiLCIkaWRlbnRpdHlfbG9naW5faWQiOiIwMjYxNDYifQ%3D%3D%22%2C%22history_login_id%22%3A%7B%22name%22%3A%22%24identity_login_id%22%2C%22value%22%3A%22026146%22%7D%2C%22%24device_id%22%3A%22197a64a875f45a-0ec1242b8b69b38-29726c34-2073600-197a64a8760813%22%7D',\n",
    "    'Origin': 'https://www.gtht.com.cn',\n",
    "    'Referer': 'https://www.gtht.com.cn/bst/insideWeb/rank/no-referrer',\n",
    "    'Sec-Fetch-Dest': 'empty',\n",
    "    'Sec-Fetch-Mode': 'cors',\n",
    "    'Sec-Fetch-Site': 'same-origin',\n",
    "    'User-Agent': 'Mozilla/5.0 (Windows NT 6.2; Win64; x64) AppleWebKit/537.36 (KHTML, like Gecko)  Chrome/109.0.0.0 GTJABrowser/2.1.0.5 Safari/537.36',\n",
    "    'sec-ch-ua': '\"Chromium\";v=\"109\"',\n",
    "    'sec-ch-ua-mobile': '?0',\n",
    "    'sec-ch-ua-platform': '\"Windows\"',\n",
    "}\n",
    "\n",
    "params = {\n",
    "    'sysId': '100',\n",
    "    'funId': 'RPT_RANK_Q0051',\n",
    "}\n",
    "\n",
    "data = 'data={\"Param\":\"{\\\\\"id\\\\\":\\\\\"id_01_72_01_02_lf\\\\\",\\\\\"begindate\\\\\":\\\\\"202505\\\\\"}\",\"Type\":\"RPT_RANK_Q0051\",\"Page\":{\"CurrentPage\":1,\"PageSize\":9999}}'\n",
    "\n",
    "response = requests.post(\n",
    "    'https://www.gtht.com.cn/link/common/apiajax/ajaxMappingHandler',\n",
    "    params=params,\n",
    "    headers=headers,\n",
    "    data=data,\n",
    ")"
   ]
  },
  {
   "cell_type": "code",
   "execution_count": 3,
   "metadata": {},
   "outputs": [],
   "source": [
    "json_data = response.json()[\"Data\"]\n",
    "all_list = []\n",
    "for i in json_data:\n",
    "    list = [\n",
    "        i[\"RANKNAME\"],\n",
    "        i[\"BRANCH_NAME\"],\n",
    "        i[\"V1\"],\n",
    "        i[\"V2\"],\n",
    "        i[\"V3\"],\n",
    "        i[\"V4\"],\n",
    "        i[\"V5\"],\n",
    "    ]\n",
    "    all_list.append(list)\n",
    "nav_df = pd.DataFrame(all_list,columns=[\"排名\",\"分公司\",\"营业收入\",\"交易类收入\",\"借贷类收入\",\"委托类收入\",\"其他类收入\"])"
   ]
  },
  {
   "cell_type": "code",
   "execution_count": 5,
   "metadata": {},
   "outputs": [],
   "source": [
    "nav_df.to_excel('nav_df.xlsx')"
   ]
  },
  {
   "cell_type": "code",
   "execution_count": null,
   "metadata": {},
   "outputs": [],
   "source": []
  }
 ],
 "metadata": {
  "kernelspec": {
   "display_name": "Python 3",
   "language": "python",
   "name": "python3"
  },
  "language_info": {
   "codemirror_mode": {
    "name": "ipython",
    "version": 3
   },
   "file_extension": ".py",
   "mimetype": "text/x-python",
   "name": "python",
   "nbconvert_exporter": "python",
   "pygments_lexer": "ipython3",
   "version": "3.12.4"
  }
 },
 "nbformat": 4,
 "nbformat_minor": 2
}
